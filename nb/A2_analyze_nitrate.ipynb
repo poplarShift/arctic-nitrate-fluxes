{
 "cells": [
  {
   "cell_type": "markdown",
   "metadata": {},
   "source": [
    "# Preamble"
   ]
  },
  {
   "cell_type": "markdown",
   "metadata": {},
   "source": [
    "This notebook collects analysis and visualization of all data related to nitrate inventories and other mixed-layer properties as compiled in [the previous notebook]().\n",
    "\n",
    "All figures exported from this notebook are prefixed with `FIGURE_FN-COMP_`."
   ]
  },
  {
   "cell_type": "code",
   "execution_count": null,
   "metadata": {},
   "outputs": [],
   "source": [
    "%load_ext autoreload\n",
    "%autoreload 2\n",
    "%run imports.py"
   ]
  },
  {
   "cell_type": "code",
   "execution_count": null,
   "metadata": {},
   "outputs": [],
   "source": [
    "pd.read_feather('../data/no3-compilation/da')"
   ]
  },
  {
   "cell_type": "code",
   "execution_count": null,
   "metadata": {},
   "outputs": [],
   "source": [
    "def load_data():\n",
    "    # df_per_station, df = load_data()\n",
    "    df_per_station = pd.read_feather('../data/no3-compilation/database-per-stn.feather')\n",
    "    df = pd.read_feather('../data/no3-compilation/database.feather')\n",
    "    return df_per_station, df"
   ]
  },
  {
   "cell_type": "code",
   "execution_count": null,
   "metadata": {},
   "outputs": [],
   "source": [
    "# Define dimensions\n",
    "dims = dict(\n",
    "    reg_name=hv.Dimension('reg_name', label='Region'),\n",
    "    ntr0=hv.Dimension('ntr0', label='Sfc. NO₃', unit='µM', range=(0,13)),\n",
    "    doy=hv.Dimension('doy', label='Day of the year', range=(0,360)),\n",
    "    lon=hv.Dimension('lon', label='Longitude', unit='°E'),\n",
    "    lat=hv.Dimension('lat', label='Latitude', unit='°N'),\n",
    "    delta_sigth=hv.Dimension('delta_sigth', label='Δσ-θ', unit='kg m⁻³'),\n",
    "    strat=hv.Dimension('strat', label='N²', unit='s⁻²'),\n",
    "    logstrat=hv.Dimension('logstrat', label='log10 N²', unit='s⁻²'),\n",
    "    no3_sfc_winter = hv.Dimension('no3_sfc_winter', label='Pre-bloom sfc. NO₃ ', unit='µM', range=(-.5,13))\n",
    ")"
   ]
  },
  {
   "cell_type": "markdown",
   "metadata": {},
   "source": [
    "# Maps of key quantities"
   ]
  },
  {
   "cell_type": "code",
   "execution_count": null,
   "metadata": {},
   "outputs": [],
   "source": [
    "df, dfp, _ = load_data()"
   ]
  },
  {
   "cell_type": "code",
   "execution_count": null,
   "metadata": {},
   "outputs": [],
   "source": [
    "def logmean(x):\n",
    "    return np.nanmedian(np.log10(x))\n",
    "\n",
    "options = (\n",
    "    opts.HexTiles(),\n",
    "    opts.HexTiles('ntr0', cmap=cmocean.cm.matter_r),\n",
    "    opts.HexTiles('delta_sigth', aggregator=logmean),\n",
    "    opts.HexTiles('no3sig_nc', color_levels=8),\n",
    "    opts.HexTiles('no3sig_mld', color_levels=8),\n",
    "    opts.HexTiles('deltanc', symmetric=True, cmap='PuOr'),\n",
    "    opts.Polygons(line_color='k', fill_color=None, line_width=3),\n",
    "    opts.Shape(line_width=1, color='w'),\n",
    ")\n",
    "\n",
    "griddict = {\n",
    "    (season, var):\n",
    "    gv.HexTiles(df.loc[df.season==season].dropna(subset=[var]), ['lon', 'lat'], var, label=var) \n",
    "    for season in ['winter', 'summer']\n",
    "    for var in ['nc', 'mld', 'ntr0', \n",
    "                'delta_sigth']\n",
    "\n",
    "}\n",
    "\n",
    "\n",
    "gs = hv.GridSpace(griddict, kdims=['season', 'variable'])\n",
    "gs = gs.redim.range(deltanc=(-50, 50), mld=(0,100), nc=(0.1,100), nc0=(0.1,60))#, delta_sigth=(.05,3))\n",
    "l = gs * land"
   ]
  },
  {
   "cell_type": "markdown",
   "metadata": {},
   "source": [
    "## html "
   ]
  },
  {
   "cell_type": "raw",
   "metadata": {},
   "source": [
    "ll = l[:, 'delta_sigth'].opts(*opts_map_bk, clone=True).opts(\n",
    "    # opts.HexTiles(hooks=[logcolor_ticks([.2, .3, .5, 1, 3, 5])], clim=(-.7, .5), toolbar=None),\n",
    "    opts.HexTiles(\n",
    "        colorbar=False, clim=(-.7, .5), \n",
    "        frame_height=400, frame_width=400,\n",
    "        # height=400, width=400,\n",
    "    ),\n",
    "    clone=True\n",
    ")\n",
    "\n",
    "# Pickler.save(ll, '../nb_fig/FIGURE_NO3-COMP_map_stratification')\n",
    "# hv.save(ll, '../nb_fig/FIGURE_NO3-COMP_map_stratification', fmt='png')\n",
    "ll.opts(opts.GridSpace(height=2000, width=2000))"
   ]
  },
  {
   "cell_type": "raw",
   "metadata": {},
   "source": [
    "hv.renderer('bokeh').theme = None"
   ]
  },
  {
   "cell_type": "markdown",
   "metadata": {},
   "source": [
    "## mpl output"
   ]
  },
  {
   "cell_type": "markdown",
   "metadata": {},
   "source": [
    "Make custom diverging color map:"
   ]
  },
  {
   "cell_type": "code",
   "execution_count": null,
   "metadata": {},
   "outputs": [],
   "source": [
    "# cm = colorcet.b_diverging_linear_bjy_30_90_c45[::-1]\n",
    "cm = colorcet.b_diverging_bwr_40_95_c42[::-1]\n",
    "cm = cm[:127:4] + cm[127:]"
   ]
  },
  {
   "cell_type": "code",
   "execution_count": null,
   "metadata": {},
   "outputs": [],
   "source": [
    "obj = l.opts(\n",
    "    opts_map_mpl + [\n",
    "        opts.HexTiles(clim=(0,5), backend='matplotlib'),\n",
    "    ]\n",
    ")"
   ]
  },
  {
   "cell_type": "code",
   "execution_count": null,
   "metadata": {},
   "outputs": [],
   "source": [
    "fig = mplrender_map(obj['summer', 'ntr0'], fname='../nb_fig/FIGURE_NO3-COMP_map_no3_summer')\n",
    "\n",
    "fig"
   ]
  },
  {
   "cell_type": "raw",
   "metadata": {},
   "source": [
    "# need diverging colour map\n",
    "fig = mplrender_map(obj['summer', 'ntr0'], fname='../nb_fig/FIGURE_NO3-COMP_map_no3_summer_limiting')\n",
    "\n",
    "fig"
   ]
  },
  {
   "cell_type": "code",
   "execution_count": null,
   "metadata": {},
   "outputs": [],
   "source": [
    "fig = mplrender_map(obj['winter', 'ntr0'], fname='../nb_fig/FIGURE_NO3-COMP_map_no3_winter')\n",
    "\n",
    "fig"
   ]
  },
  {
   "cell_type": "markdown",
   "metadata": {},
   "source": [
    "# Seasonality"
   ]
  },
  {
   "cell_type": "code",
   "execution_count": null,
   "metadata": {},
   "outputs": [],
   "source": [
    "df, dfp = load_data()"
   ]
  },
  {
   "cell_type": "markdown",
   "metadata": {},
   "source": [
    "## Seasonality by regions"
   ]
  },
  {
   "cell_type": "code",
   "execution_count": null,
   "metadata": {},
   "outputs": [],
   "source": [
    "loc = gv.Points(df, ['lon', 'lat'], [])\n",
    "ntr = hv.Scatter(df, 'doy', ['ntr0'])\n",
    "\n",
    "DataLink(loc,ntr)\n",
    "\n",
    "l = loc*land*gv.feature.rivers + ntr \n",
    "l = l.redim(**dims).cols(1)\n",
    "\n",
    "options = (\n",
    "    opts.Scatter(\n",
    "        tools=['lasso_select', 'box_select'], active_tools=['lasso_select'], \n",
    "        color='lightblue', size=5, selection_color='orange',\n",
    "        height=300, width=600\n",
    "    ),\n",
    "    opts.Points(\n",
    "        tools=['lasso_select'], active_tools=['lasso_select'],\n",
    "        projection=ccrs.NorthPolarStereo(),\n",
    "        color='lightblue', size=3, selection_color='orange',\n",
    "        height=400, aspect=1,\n",
    "    ),\n",
    "    opts.Feature(\n",
    "        fill_color='wheat', line_color='black',\n",
    "        scale='50m'\n",
    "    ),\n",
    "    opts.Feature('Rivers', line_color='blue', scale='110m'),\n",
    ")\n",
    "l = l.opts(*options)\n",
    "\n",
    "hv.save(l, '../nb_fig/FIGURE_NO3-COMP_chart_seasonal_cycle.html')\n",
    "l"
   ]
  },
  {
   "cell_type": "markdown",
   "metadata": {},
   "source": [
    "## Make static matplotlib plot for paper "
   ]
  },
  {
   "cell_type": "code",
   "execution_count": null,
   "metadata": {},
   "outputs": [],
   "source": [
    "def annual_cycle(v):\n",
    "    \"\"\"Plots seasonal cycle of variable v\"\"\"\n",
    "    sc = hv.Scatter(df, kdims=['doy'], \n",
    "                      vdims=[v, \n",
    "                             'nc', 'lat', 'lon', 'mld', 'ntr0', 'nc0', 'reg_name'], \n",
    "                      label=v\n",
    "                     ).groupby('reg_name')\n",
    "    err = hvu.bin_average(sc, bins=np.arange(0,361,30))\n",
    "    return sc *  err * err.map(hv.Curve, hv.Dataset) * err.map(hv.Scatter, hv.Dataset)\n",
    "\n",
    "l = annual_cycle('ntr0').layout().cols(3)\n",
    "l = l.opts(*opts_timeseries_mpl + [\n",
    "    opts.Scatter(title_format='asd{group}',\n",
    "        invert_yaxis=False, backend='matplotlib', \n",
    "        xlabel='', #ylabel='',\n",
    "    ),\n",
    "    opts.Layout()\n",
    "])\n",
    "l = l.redim(**dims)\n",
    "\n",
    "# hv.save(l, '../nb_fig/FIGURE_NO3-COMP_chart_seasonal_cycle.png')\n",
    "with plt.style.context('styles/sparse.mplstyle'):\n",
    "    fig = mplrender(l)\n",
    "    fig.subplots_adjust(wspace=.25, hspace=.08, left=0.2)\n",
    "    fig.set_size_inches((12,8))\n",
    "    \n",
    "fname = '../nb_fig/FIGURE_NO3-COMP_chart_seasonal_cycle'\n",
    "fig.savefig(fname+'.png')\n",
    "fig.savefig(fname+'.pdf')\n",
    "fig"
   ]
  },
  {
   "cell_type": "markdown",
   "metadata": {},
   "source": [
    "# Laptev Nitrate profiles"
   ]
  },
  {
   "cell_type": "code",
   "execution_count": null,
   "metadata": {},
   "outputs": [],
   "source": [
    "df_single, df = load_data()"
   ]
  },
  {
   "cell_type": "code",
   "execution_count": null,
   "metadata": {},
   "outputs": [],
   "source": [
    "(\n",
    "    df.loc[df.lat.between(76, 77) & df.lon.between(124, 128)]\n",
    "    .hvplot('nitrate', 'depth', by='station')\n",
    "    .opts(invert_yaxis=True)\n",
    ")"
   ]
  },
  {
   "cell_type": "code",
   "execution_count": null,
   "metadata": {},
   "outputs": [],
   "source": [
    "(\n",
    "    df.loc[df.lat.between(76, 77) & df.lon.between(124, 128)]\n",
    "    .hvplot('sigth', 'depth', by='station')\n",
    "    .opts(invert_yaxis=True)\n",
    ")"
   ]
  },
  {
   "cell_type": "markdown",
   "metadata": {},
   "source": [
    "Gradient:"
   ]
  },
  {
   "cell_type": "code",
   "execution_count": null,
   "metadata": {},
   "outputs": [],
   "source": [
    "3/20"
   ]
  },
  {
   "cell_type": "code",
   "execution_count": null,
   "metadata": {},
   "outputs": [],
   "source": [
    "(27-23)/20"
   ]
  },
  {
   "cell_type": "markdown",
   "metadata": {},
   "source": [
    "# [do later] Interannual trends"
   ]
  },
  {
   "cell_type": "markdown",
   "metadata": {},
   "source": [
    "obs:\n",
    "\n",
    "- NC deepening in S Beaufort\n",
    "- "
   ]
  },
  {
   "cell_type": "markdown",
   "metadata": {},
   "source": [
    "to do:\n",
    "make 2dim hextiles aggregator, then plot hextiles of trends and significance"
   ]
  },
  {
   "cell_type": "code",
   "execution_count": null,
   "metadata": {},
   "outputs": [],
   "source": [
    "df_per_station, df = load_data()\n",
    "\n",
    "df = df.melt(['year', 'season', 'reg_name'], ['ntr0', 'nc', 'nc0']).dropna(subset=['season'])\n",
    "df = df.loc[~df.reg_name.isnull()]"
   ]
  },
  {
   "cell_type": "code",
   "execution_count": null,
   "metadata": {},
   "outputs": [],
   "source": [
    "df.reg_name.unique()"
   ]
  },
  {
   "cell_type": "code",
   "execution_count": null,
   "metadata": {},
   "outputs": [],
   "source": [
    "m = df.hvplot.scatter('year', 'value', groupby=['reg_name', 'season', 'variable'])\n",
    "\n",
    "from utils.holoviews.element import Regression\n",
    "\n",
    "l=m*m.map(Regression, 'Scatter')"
   ]
  },
  {
   "cell_type": "code",
   "execution_count": null,
   "metadata": {},
   "outputs": [],
   "source": [
    "%%opts Scatter [ frame_width=600 frame_height=400 show_grid=True invert_yaxis=True, legend_position='top']\n",
    "l.overlay('season')#.layout('reg_name').cols(1)"
   ]
  },
  {
   "cell_type": "raw",
   "metadata": {},
   "source": [
    "dm = hv.DynamicMap(m['summer', 'Baffin Bay'])\n",
    "\n",
    "dm.callback.inputs"
   ]
  },
  {
   "cell_type": "raw",
   "metadata": {},
   "source": [
    "(df\n",
    " .assign(year=df.date.dt.year)\n",
    " .groupby(['year','reg_name', 'season'])\n",
    " .mean()['nc']\n",
    " .unstack()['winter']\n",
    " .unstack()#['Canada Basin']#Southern Beaufort\n",
    " .interpolate()\n",
    " .plot(linestyle='-', marker='s')\n",
    ")\n",
    "# plt.xlim(1980,2010)"
   ]
  },
  {
   "cell_type": "raw",
   "metadata": {},
   "source": [
    "(df\n",
    " .assign(year=df.date.dt.year)\n",
    " .groupby(['year','reg_name', 'season'])\n",
    " .mean()['ntr0']\n",
    " .unstack()['summer']\n",
    " .unstack()#['Southern Beaufort']\n",
    " .interpolate()\n",
    " .plot(linestyle='-', marker='.')\n",
    ")"
   ]
  },
  {
   "cell_type": "raw",
   "metadata": {},
   "source": [
    "d = df.copy()#.loc[(df.nc>1)]\n",
    "d = d.assign(r=d.nc/d.mld).assign(dm=d.nc-d.mld)\n",
    "d.groupby(['season', 'reg_name']).mean()[['r', 'dm', 'mld', 'nc']]"
   ]
  },
  {
   "cell_type": "markdown",
   "metadata": {},
   "source": [
    "## [unused] Scatter plots: Relations"
   ]
  },
  {
   "cell_type": "markdown",
   "metadata": {},
   "source": [
    "deltanc vs surface NO3"
   ]
  },
  {
   "cell_type": "raw",
   "metadata": {},
   "source": [
    "%%opts Scatter [show_grid=True]\n",
    "f = hv.Scatter(df.assign(r=df.nc0-df.mld), kdims=['r'], vdims=['ntr0', 'reg_name']\n",
    "          ).groupby('reg_name').layout().cols(3)\n",
    "(\n",
    "    f * binavg(f, bins=np.arange(0,361,30))\n",
    ")"
   ]
  },
  {
   "cell_type": "markdown",
   "metadata": {},
   "source": [
    "NC vs MLD..."
   ]
  },
  {
   "cell_type": "raw",
   "metadata": {},
   "source": [
    "%%opts Points [color_index='ntr0' show_grid=True colorbar=True logz=True width=700] \n",
    "%%opts Points [tools=['hover']] (line_color='k' size=5)\n",
    "%%opts Points (cmap='viridis')\n",
    "# (cmap='Category20')\n",
    "(\n",
    "    hv.Points(df,\n",
    "              kdims=['mld', 'nc'], vdims=['month', 'reg_name', 'season', 'ntr0']\n",
    "             ).groupby('reg_name')\n",
    "    * hv.Curve(dict(x=[0, 130], y=[0,130]))\n",
    ").redim.range(mld=(-5, 500))"
   ]
  },
  {
   "cell_type": "raw",
   "metadata": {},
   "source": [
    "%%opts Scatter [width=600 height=400 show_grid=True]\n",
    "%%opts Scatter [color_index='month' colorbar=True] (cmap='viridis' size=4)\n",
    "# (cmap='Category10')\n",
    "\n",
    "sc = hv.Scatter(df, kdims=['nc'], vdims=['ntr0', 'season', 'month', 'mld', 'reg_name'])\n",
    "sc.groupby('reg_name').redim.range(nc=(2,None), ntr0=(-.1, 1.5))"
   ]
  },
  {
   "cell_type": "raw",
   "metadata": {},
   "source": [
    "d = dfr.loc[dfr.reg_name.str.contains('Barents') & (dfr.nc>1)]\n",
    "d = d.assign(r=d.nc/d.mld).assign(dm=d.nc-d.mld)"
   ]
  }
 ],
 "metadata": {
  "kernelspec": {
   "display_name": "Python 3",
   "language": "python",
   "name": "python3"
  },
  "language_info": {
   "codemirror_mode": {
    "name": "ipython",
    "version": 3
   },
   "file_extension": ".py",
   "mimetype": "text/x-python",
   "name": "python",
   "nbconvert_exporter": "python",
   "pygments_lexer": "ipython3",
   "version": "3.7.3"
  },
  "toc-autonumbering": true
 },
 "nbformat": 4,
 "nbformat_minor": 4
}
