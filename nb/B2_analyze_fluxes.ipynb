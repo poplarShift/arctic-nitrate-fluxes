{
 "cells": [
  {
   "cell_type": "markdown",
   "metadata": {},
   "source": [
    "# Preamble"
   ]
  },
  {
   "cell_type": "markdown",
   "metadata": {},
   "source": [
    "This notebook deals with compiling all available estimates and measurements of vertical nitrate fluxes (in the Arctic Ocean).\n",
    "\n",
    "All figures exported from this notebook are prefixed by `FIGURE_NO3-COMP_`."
   ]
  },
  {
   "cell_type": "code",
   "execution_count": null,
   "metadata": {},
   "outputs": [],
   "source": [
    "%load_ext autoreload\n",
    "%autoreload 2\n",
    "%run imports.py\n",
    "\n",
    "dims = dict(\n",
    "    FN = hv.Dimension('FN', label='Nitrate flux', unit='mmol N m⁻² d⁻¹', range=(.005, 10)),\n",
    "    no3_sfc_winter_uM = hv.Dimension('no3_sfc_winter_uM', label='Pre-bloom sfc. NO₃ ', unit='µM', range=(-.5, 13)),\n",
    "    strat=hv.Dimension('strat', label='Brunt-Väisälä frequency', unit='s⁻²')\n",
    ")"
   ]
  },
  {
   "cell_type": "markdown",
   "metadata": {},
   "source": [
    "# Maps"
   ]
  },
  {
   "cell_type": "code",
   "execution_count": null,
   "metadata": {},
   "outputs": [],
   "source": [
    "df = pd.read_csv('../data/fn-compilation.csv')\n",
    "\n",
    "options_bk = [\n",
    "    opts.Points(\n",
    "        backend='bokeh',\n",
    "        color=dim('FN'),\n",
    "        tools=['hover'], cmap=default_cmap, colorbar=True, \n",
    "        size=dim('samplesize').categorize({'single': 9, 'aggregate': 20}),\n",
    "        line_color='k',\n",
    "        width=500, height=400, show_legend=False),\n",
    "    opts.Feature(scale='50m'),\n",
    "]\n",
    "             \n",
    "\n",
    "options_mpl = translate_options(options_bk, bokeh2mpl)\n",
    "options = options_mpl + options_bk\n",
    "\n",
    "data = gv.Points(df, \n",
    "                 kdims=['Longitude', 'Latitude'], \n",
    "                 vdims=['FN','samplesize', 'Reference', 'Season'], \n",
    "                 crs=ccrs.PlateCarree()\n",
    "                )\n",
    "\n",
    "l = land.clone() * data\n",
    "# l = data\n",
    "l = l.redim.range(Latitude=(60,90), Longitude=(-180, 180))\n",
    "\n",
    "ll = (\n",
    "    l\n",
    "    .opts(*(opts_map+options), clone=True)\n",
    "    .opts(\n",
    "        opts.Points(\n",
    "            backend='bokeh', \n",
    "            color=np.log10(dim('FN')), hooks=[logcolor_ticks([1e-2, 1e-1, 1, 5])]\n",
    "        )\n",
    "    )\n",
    ")\n",
    "hv.renderer('bokeh').theme = theme\n",
    "hv.save(ll, '../nb_fig/FIGURE_FN-COMP_map.html')\n",
    "ll"
   ]
  },
  {
   "cell_type": "code",
   "execution_count": null,
   "metadata": {},
   "outputs": [],
   "source": [
    "def finalize(fig):\n",
    "    fig.set_size_inches(8,6)\n",
    "    ax = fig.axes[0]\n",
    "    ax.background_img()\n",
    "    ax.set_title(dims['FN'].pprint_label)\n",
    "    \n",
    "    ax = fig.axes[1]\n",
    "    ax.yaxis.set_label_text('')\n",
    "    ax.yaxis.set_ticks([1e-2, 1e-1, 1, 5])\n",
    "    ax.yaxis.set_ticklabels([1e-2, 1e-1, 1, 5])\n",
    "    \n",
    "fig = mplrender_map(\n",
    "    l\n",
    "    .opts(\n",
    "        *opts_map_mpl, *options_mpl,\n",
    "        opts.Points(\n",
    "            logz=True, \n",
    "            cmap=cmocean.cm.matter_r, zlim=(1e-2, 5), clipping_colors={'min': 'grey', 'NaN': 'grey'}, \n",
    "            backend='matplotlib'\n",
    "        ),\n",
    "        opts.Feature(scale='50m'),\n",
    "        clone=True\n",
    "    ),\n",
    "    '../nb_fig/FIGURE_FN-COMP_map',\n",
    "    hooks=[finalize],\n",
    ")\n",
    "fig"
   ]
  },
  {
   "cell_type": "markdown",
   "metadata": {},
   "source": [
    "# Seasonal cycle"
   ]
  },
  {
   "cell_type": "code",
   "execution_count": null,
   "metadata": {},
   "outputs": [],
   "source": [
    "df = pd.read_csv('../data/fn-compilation.csv')\n",
    "\n",
    "df_nonwrap = df.loc[df.validity_start<df.validity_end]\n",
    "df_wrap = df.loc[df.validity_start>df.validity_end]\n",
    "\n",
    "df = pd.concat([\n",
    "    df_nonwrap,\n",
    "    df_wrap.assign(measured_end=13, validity_end=13),\n",
    "    df_wrap.assign(measured_start=1, validity_start=1)\n",
    "])\n",
    "\n",
    "# reshape the start and end times of the different periods into a tidy tabular format \n",
    "# for easier ingestion in holoviews\n",
    "def melt_df(x):\n",
    "    dfr = df.melt(id_vars=['Reference', 'FN', 'samplesize', 'overturning'], value_vars=['measured_'+x, 'validity_'+x], \n",
    "                  value_name=x, var_name='type')\n",
    "    dfr.loc[dfr.type.str.contains('measured'), 'type']='measured'\n",
    "    dfr.loc[dfr.type.str.contains('valid'), 'type']='valid'\n",
    "    return dfr\n",
    "\n",
    "df = melt_df('start').join(melt_df('end')[['end']])\n",
    "\n",
    "df = df.replace(dict(\n",
    "    aggregate='Larger-scale aggregate', single='Few stations', overturning='Winter overturning', perennial='Perennial stratification', \n",
    "    measured='Measured', valid='Stipulated'\n",
    "))\n",
    "\n",
    "df.loc[df.start==df.end, 'end'] += 1\n",
    "\n",
    "df.head()"
   ]
  },
  {
   "cell_type": "code",
   "execution_count": null,
   "metadata": {},
   "outputs": [],
   "source": [
    "t = pd.date_range('2000-1-1', '2001-1-1', freq='2MS')\n",
    "xticks = list(zip(t.month+.5, t.month_name().str[:3]))\n",
    "\n",
    "od = {\n",
    "    'overturning': {'color': ['orange', 'blue']},\n",
    "    'type': {'line_width': [6, 3]},\n",
    "    'samplesize': {'alpha': [.3, 1]}\n",
    "}\n",
    "\n",
    "options = (\n",
    "    opts.NdOverlay(legend_position='right', show_legend=False, width=800),\n",
    "    opts.Segments(logy=True, padding=.1, xticks=xticks, show_title=False, title_format='',\n",
    "                  yformatter='%g', **faceted_legend_opts(od), xlabel=''),\n",
    ")\n",
    "\n",
    "l = hv.Dataset(df.assign(fn2=df.FN), ['start', 'FN', 'end', 'fn2'] + ['overturning', 'type', 'samplesize']).to(Segments).overlay()\n",
    "l = l.redim(**dims)\n",
    "l = l.opts(*options) + faceted_legend(l, od, hw={'height':200, 'width':250})\n",
    "\n",
    "fname = '../nb_fig/FIGURE_FN-COMP_chart_seasonal_cycle'\n",
    "ll = l.opts(toolbar=None, clone=True)\n",
    "hv.save(ll, fname, fmt='png')\n",
    "save_bokeh_svg_multipanel(ll, fname+'.svg', orientation='v')\n",
    "hv.save(l, fname, fmt='html')\n",
    "l"
   ]
  },
  {
   "cell_type": "markdown",
   "metadata": {},
   "source": [
    "# Surface nitratre concentration vs. stratification vs. bathymetry"
   ]
  },
  {
   "cell_type": "markdown",
   "metadata": {},
   "source": [
    "## FN- winter NO3 "
   ]
  },
  {
   "cell_type": "code",
   "execution_count": null,
   "metadata": {},
   "outputs": [],
   "source": [
    "df = pd.read_csv('../data/fn-compilation.csv')\n",
    "df.overturning = df.overturning.str.capitalize()\n",
    "\n",
    "options = [\n",
    "    opts.Scatter(\n",
    "        tools=['hover'],\n",
    "        color='black',\n",
    "        marker=hv.Cycle(['triangle', 'square']),\n",
    "        show_grid=False, \n",
    "        legend_position='top_left', show_legend=True,\n",
    "        frame_width=220, aspect=1, #color=dim('label'),\n",
    "        size=10, \n",
    "        logx=True, xformatter='%g'),\n",
    "]\n",
    "\n",
    "l = (\n",
    "    hv.Dataset(df, ['FN', 'overturning'], ['no3_sfc_winter_uM', 'Reference'])\n",
    "    .to(hv.Scatter).overlay('overturning')\n",
    "    .redim(**dims)\n",
    ")\n",
    "\n",
    "l = l.opts(*options).redim.range(FN=((5e-3,6))).relabel('A')\n",
    "\n",
    "hv.renderer('bokeh').theme = theme\n",
    "fname = '../nb_fig/FIGURE_FN-COMP_chart_vs_NO3_panelA'\n",
    "hv.save(l, fname, fmt='html')\n",
    "ll = l.opts(toolbar=None, clone=True)\n",
    "hv.save(ll, fname, fmt='png')\n",
    "save_bokeh_svg(ll, fname+'.svg')\n",
    "panel_A = l.clone()\n",
    "panel_A"
   ]
  },
  {
   "cell_type": "markdown",
   "metadata": {},
   "source": [
    "## Panel B: Surface nitratre vs. stratification grouped by bathymetry"
   ]
  },
  {
   "cell_type": "code",
   "execution_count": null,
   "metadata": {},
   "outputs": [],
   "source": [
    "unicode_dict = {i:j for i, j in zip(range(10), list('⁰¹²³⁴⁵⁶⁷⁸⁹'))}\n",
    "\n",
    "def format_exponent_unicode(n):\n",
    "    if n>0:\n",
    "        return '10'+unicode_dict[n]\n",
    "    elif n<0:\n",
    "        return '10⁻'+unicode_dict[abs(n)]"
   ]
  },
  {
   "cell_type": "code",
   "execution_count": null,
   "metadata": {},
   "outputs": [],
   "source": [
    "#load data\n",
    "df = (\n",
    "    pd.read_csv('../data/no3-compilation/database-per-stn.csv', parse_dates=['date'])\n",
    "    .rename(columns=dict(N2_30_60='strat'))\n",
    ")\n",
    "df = df.assign(logstrat=np.log10(df.strat))\n",
    "df = df.loc[df.month.between(3, 5)]\n",
    "\n",
    "# add bathymetry from IBCAO\n",
    "ds = xr.load_dataarray('/Users/doppler/database/IBCAO/IBCAO_1min_bathy.nc')\n",
    "df['btm'] = - ds.sel(lat=df.lat.values, lon=df.lon.values, method='nearest').values.diagonal()\n",
    "\n",
    "# bin data by stratification and bathymetry\n",
    "df = df.dropna(subset=['reg_name'])\n",
    "df['btm_cat'] = pd.cut(df.btm, bins=[0, 200, 1500, np.inf], labels=['Shelf', 'Slope', 'Basin'])\n",
    "\n",
    "strat_bins = np.arange(-6, -3, .5)\n",
    "df['strat_cat'] = pd.cut(df.logstrat, bins=strat_bins)\n",
    "\n",
    "# define data: surface nitrate conc. as function of stratification and bottom depth category\n",
    "sc = df.hvplot.scatter('logstrat', 'ntr0', by=['btm_cat']).opts()\n",
    "btm_cats = sc.data.keys()\n",
    "\n",
    "def binavg(el):\n",
    "    el = bin_average(el, bins=strat_bins, avg_fun=np.nanmean)\n",
    "    return el.to(hv.Curve).clone(data=el.dframe().dropna())# * el\n",
    "\n",
    "# colors = hv.Cycle(colorcet.b_glasbey_hv)\n",
    "colors = hv.Cycle(colorcet.b_glasbey_category10)\n",
    "# colors = hv.Cycle(['#282E3E', '#3F8196', '#41E2DD'])\n",
    "# colors = hv.Cycle(['#2E6353', '#D1C461', '#E78A9C'])\n",
    "options = [\n",
    "    opts.Scatter(color=colors, tools=['hover']),\n",
    "    opts.Curve(\n",
    "        color=colors, line_width=5, frame_height=220, frame_width=300, tools=['hover'],\n",
    "        xticks=[(logx, format_exponent_unicode(logx)) for logx in range(-6, -2)],\n",
    "        xlim=(-6,-3.5),\n",
    "        ylabel='',\n",
    "    ),\n",
    "    opts.RGB(),\n",
    "    opts.Contours(\n",
    "        show_legend=False,\n",
    "        cmap=hv.Cycle([[c] for c in colors.values]),\n",
    "        alpha=dim('Density').norm(), \n",
    "        line_dash='', line_width=3*np.sqrt(dim('Density').norm()),\n",
    "    ),\n",
    "    opts.Overlay(legend_position='bottom_left'),\n",
    "]\n",
    "\n",
    "avg = hv.NdOverlay({x: binavg(sc[x]) for x in btm_cats})\n",
    "\n",
    "kde_args = dict(\n",
    "#     levels=np.arange(0.01, 0.5, 0.02),\n",
    "    bandwidth=0.3\n",
    ")\n",
    "kde = hv.NdOverlay({var: bivariate_kde(sc[var], **kde_args) for var in btm_cats})\n",
    "\n",
    "l = kde * avg\n",
    "l = l.opts(*options).redim(ntr0='no3_sfc_winter_uM', logstrat='strat').redim(**dims)\n",
    "\n",
    "panel_B = l.clone().relabel('B')\n",
    "panel_B"
   ]
  },
  {
   "cell_type": "markdown",
   "metadata": {},
   "source": [
    "The overall statistical significance is hard to assess, but a category-wise box/whisker plot also consistently shows the ordering Basin < Shelf < Slope:"
   ]
  },
  {
   "cell_type": "code",
   "execution_count": null,
   "metadata": {},
   "outputs": [],
   "source": [
    "hv.BoxWhisker(df, ['strat_cat', 'btm_cat'], 'ntr0').opts(xrotation=45, width=1000)"
   ]
  },
  {
   "cell_type": "markdown",
   "metadata": {},
   "source": [
    "## Merge panels "
   ]
  },
  {
   "cell_type": "code",
   "execution_count": null,
   "metadata": {},
   "outputs": [],
   "source": [
    "l = panel_A + panel_B\n",
    "\n",
    "fname = '../nb_fig/FIGURE_FN-COMP_chart_vs_NO3'\n",
    "\n",
    "hv.save(l, fname, fmt='html')\n",
    "save_bokeh_svg_multipanel(l, fname+'.svg')\n",
    "os.system(f'convert -density 200 {fname}.svg {fname}.png')"
   ]
  },
  {
   "cell_type": "code",
   "execution_count": null,
   "metadata": {},
   "outputs": [],
   "source": [
    "for panel in ['A', 'B']:\n",
    "    os.system(f'rm {fname}_panel{panel}*')"
   ]
  }
 ],
 "metadata": {
  "kernelspec": {
   "display_name": "Python 3",
   "language": "python",
   "name": "python3"
  },
  "language_info": {
   "codemirror_mode": {
    "name": "ipython",
    "version": 3
   },
   "file_extension": ".py",
   "mimetype": "text/x-python",
   "name": "python",
   "nbconvert_exporter": "python",
   "pygments_lexer": "ipython3",
   "version": "3.7.3"
  },
  "toc-autonumbering": true
 },
 "nbformat": 4,
 "nbformat_minor": 4
}
