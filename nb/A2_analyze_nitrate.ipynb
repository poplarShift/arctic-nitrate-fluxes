{
 "cells": [
  {
   "cell_type": "markdown",
   "metadata": {},
   "source": [
    "# Preamble"
   ]
  },
  {
   "cell_type": "markdown",
   "metadata": {},
   "source": [
    "This notebook collects analysis and visualization of all data related to nitrate inventories and other mixed-layer properties as compiled in [the previous notebook]().\n",
    "\n",
    "All figures exported from this notebook are prefixed with `FIGURE_NO3-COMP_`."
   ]
  },
  {
   "cell_type": "code",
   "execution_count": null,
   "metadata": {},
   "outputs": [],
   "source": [
    "%load_ext autoreload\n",
    "%autoreload 2\n",
    "%run imports.py\n",
    "\n",
    "def load_data():\n",
    "    # Call signature: df_per_station, df = load_data()\n",
    "    df_per_station = pd.read_csv('../data/no3-compilation/database-per-stn.csv', parse_dates=['date'])\n",
    "    df = pd.read_csv('../data/no3-compilation/database.csv', parse_dates=['date'])\n",
    "    return df_per_station, df\n",
    "\n",
    "# Define dimensions\n",
    "dims = dict(\n",
    "    reg_name=hv.Dimension('reg_name', label='Region'),\n",
    "    ntr0=hv.Dimension('ntr0', label='Surface NO₃', unit='µM'),\n",
    "    doy=hv.Dimension('doy', label='Day of the year', range=(0,360)),\n",
    "    lon=hv.Dimension('lon', label='Longitude', unit='°E'),\n",
    "    lat=hv.Dimension('lat', label='Latitude', unit='°N'),\n",
    "    delta_sigth=hv.Dimension('delta_sigth', label='Δσ-θ', unit='kg m⁻³'),\n",
    "    strat=hv.Dimension('strat', label='N²', unit='s⁻²'),\n",
    "    logstrat=hv.Dimension('logstrat', label='log10 N²', unit='s⁻²'),\n",
    "    no3_sfc_winter = hv.Dimension('no3_sfc_winter', label='Pre-bloom sfc. NO₃ ', unit='µM', range=(-.5,13))\n",
    ")"
   ]
  },
  {
   "cell_type": "markdown",
   "metadata": {},
   "source": [
    "# Maps of surface nitrate conc."
   ]
  },
  {
   "cell_type": "code",
   "execution_count": null,
   "metadata": {},
   "outputs": [],
   "source": [
    "df, dfp = load_data()\n",
    "\n",
    "def finalize_mpl(fig):\n",
    "    fig.set_size_inches(8,8)\n",
    "    ax = fig.axes[0]\n",
    "    ax.set_title(dims['ntr0'].pprint_label)\n",
    "    ax = fig.axes[1]\n",
    "    ax.yaxis.set_label_text('')\n",
    "\n",
    "options = [\n",
    "    opts.HexTiles(\n",
    "        cmap=cmocean.cm.matter, projection=ccrs.NorthPolarStereo(), gridsize=20, colorbar=True,\n",
    "        aspect=1, aggregator=np.mean, tools=['hover'],\n",
    "        # clipping_colors={'nan': 'grey'},\n",
    "    ),\n",
    "    opts.Feature(scale='50m', projection=ccrs.NorthPolarStereo()),\n",
    "    opts.Overlay(bgcolor='grey')\n",
    "]\n",
    "\n",
    "l = lambda season: (\n",
    "    gv.HexTiles(df.loc[df.season==season].dropna(subset=['ntr0']), ['lon', 'lat'], 'ntr0')\n",
    "    * land\n",
    ").opts(*(options+translate_options(options, bokeh2mpl))).redim(**dims)\n",
    "\n",
    "for season in ['winter', 'summer']:\n",
    "    fname = '../nb_fig/FIGURE_NO3-COMP_map_no3_'+season\n",
    "    obj = l(season)\n",
    "    hv.save(obj, fname, fmt='html')\n",
    "    fig = mplrender_map(obj, fname=fname, hooks=[finalize_mpl])\n",
    "    # hv.output(obj)\n",
    "    \n",
    "fig"
   ]
  },
  {
   "cell_type": "markdown",
   "metadata": {},
   "source": [
    "# Seasonality"
   ]
  },
  {
   "cell_type": "code",
   "execution_count": null,
   "metadata": {},
   "outputs": [],
   "source": [
    "df, dfp = load_data()"
   ]
  },
  {
   "cell_type": "markdown",
   "metadata": {},
   "source": [
    "## Seasonality by regions"
   ]
  },
  {
   "cell_type": "code",
   "execution_count": null,
   "metadata": {},
   "outputs": [],
   "source": [
    "loc = gv.Points(df, ['lon', 'lat'], [])\n",
    "ntr = hv.Scatter(df, 'doy', ['ntr0'])\n",
    "\n",
    "DataLink(loc,ntr)\n",
    "\n",
    "l = loc*land*gv.feature.rivers + ntr \n",
    "l = l.redim(**dims).cols(2)\n",
    "\n",
    "options = (\n",
    "    opts.Scatter(\n",
    "        tools=['lasso_select', 'box_select'], active_tools=['box_select'], \n",
    "        color='lightblue', size=5, selection_color='orange',\n",
    "        frame_height=250, frame_width=500\n",
    "    ),\n",
    "    opts.Points(\n",
    "        tools=['lasso_select', 'box_select'], active_tools=['box_select'],\n",
    "        projection=ccrs.NorthPolarStereo(),\n",
    "        color='lightblue', size=3, selection_color='orange',\n",
    "        frame_height=250, aspect=1, \n",
    "        # align='center'\n",
    "    ),\n",
    "    opts.Feature(\n",
    "        fill_color='wheat', line_color='black',\n",
    "        scale='50m'\n",
    "    ),\n",
    "    opts.Feature('Rivers', line_color='blue', scale='110m'),\n",
    ")\n",
    "l = l.opts(*options).redim.range(ntr0=(0, 15))\n",
    "\n",
    "hv.save(l, '../nb_fig/FIGURE_NO3-COMP_chart_seasonal_cycle.html')\n",
    "l"
   ]
  },
  {
   "cell_type": "markdown",
   "metadata": {},
   "source": [
    "## Make static matplotlib plot for paper "
   ]
  },
  {
   "cell_type": "code",
   "execution_count": null,
   "metadata": {},
   "outputs": [],
   "source": [
    "sc = df.loc[~df.reg_name.isnull()].hvplot.scatter('doy', 'ntr0', groupby='reg_name').layout().cols(2)\n",
    "err = bin_average(sc, bins=np.linspace(0,366,13))\n",
    "l = sc * err * err.map(hv.Curve, hv.Dataset) * err.map(hv.Scatter, hv.Dataset)"
   ]
  },
  {
   "cell_type": "code",
   "execution_count": null,
   "metadata": {},
   "outputs": [],
   "source": [
    "options = [\n",
    "    opts.Scatter(\n",
    "        frame_width=300, frame_height=150, \n",
    "        size=3, alpha=.4, axiswise=True,\n",
    "        color='g', show_legend=False,\n",
    "    ),\n",
    "    opts.ErrorBars(color='k', alpha=.3,),\n",
    "    opts.Curve(color='k'),\n",
    "    opts.NdLayout(title='A')\n",
    "]\n",
    "\n",
    "l = l.redim(**dims).opts(*options)\n",
    "\n",
    "fname = '../nb_fig/FIGURE_NO3-COMP_chart_seasonal_cycle_wo_map'\n",
    "hv.save(l.opts(toolbar=None, clone=True), fname, fmt='png')\n",
    "\n",
    "l"
   ]
  },
  {
   "cell_type": "code",
   "execution_count": null,
   "metadata": {},
   "outputs": [],
   "source": [
    "subprocess.run([\n",
    "    'convert',\n",
    "    '../nb_fig/FIGURE_NO3-COMP_chart_seasonal_cycle_wo_map.png',\n",
    "    '../nb_fig/FIGURE_NO3-COMP_regions.png',\n",
    "    '-append',\n",
    "    '../nb_fig/FIGURE_NO3-COMP_chart_seasonal_cycle.png'\n",
    "])\n",
    "\n",
    "!rm ../nb_fig/FIGURE_NO3-COMP_chart_seasonal_cycle_wo_map.png\n",
    "\n",
    "!rm ../nb_fig/FIGURE_NO3-COMP_regions.png"
   ]
  }
 ],
 "metadata": {
  "kernelspec": {
   "display_name": "Python 3",
   "language": "python",
   "name": "python3"
  },
  "language_info": {
   "codemirror_mode": {
    "name": "ipython",
    "version": 3
   },
   "file_extension": ".py",
   "mimetype": "text/x-python",
   "name": "python",
   "nbconvert_exporter": "python",
   "pygments_lexer": "ipython3",
   "version": "3.7.3"
  },
  "toc-autonumbering": true
 },
 "nbformat": 4,
 "nbformat_minor": 4
}
