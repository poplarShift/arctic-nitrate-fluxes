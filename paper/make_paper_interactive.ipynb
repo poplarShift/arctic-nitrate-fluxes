{
 "cells": [
  {
   "cell_type": "markdown",
   "metadata": {},
   "source": [
    "This notebook takes in the paper as written in `paper.md` and outputs an interactive version `paper_interactive.md`. By interactive, we mean a version where \n",
    "- static .png figure files are replaced with the interactive (holoviews/bokeh-powered) .html versions, and\n",
    "- additional hyperlinks to various data files that support each figure (machine-readable data, for instance)."
   ]
  },
  {
   "cell_type": "code",
   "execution_count": null,
   "metadata": {},
   "outputs": [],
   "source": [
    "from os.path import exists\n",
    "import os"
   ]
  },
  {
   "cell_type": "code",
   "execution_count": 7,
   "metadata": {},
   "outputs": [],
   "source": [
    "def load_file(fname='paper.md'):\n",
    "    with open(fname) as f:\n",
    "        p = f.read()\n",
    "    return p\n",
    "\n",
    "def write_paper(string, fname='test.txt'):\n",
    "    with open(fname, 'w') as f:\n",
    "        f.write(string)\n",
    "\n",
    "paper = load_file()\n",
    "\n",
    "figs = [s for s in paper.split('\\n') if s.startswith('![')]\n",
    "\n",
    "newcaps = load_file('interactive_captions.md')"
   ]
  },
  {
   "cell_type": "markdown",
   "metadata": {},
   "source": [
    "Filename handling"
   ]
  },
  {
   "cell_type": "code",
   "execution_count": 8,
   "metadata": {},
   "outputs": [],
   "source": [
    "def extract_from_between(string, start, end):\n",
    "    \"\"\"\n",
    "    Extract substring from string delineated by start and end.\n",
    "    \"\"\"\n",
    "    try:\n",
    "        return string.split(start)[1].split(end)[0]\n",
    "    except:\n",
    "        return ''\n",
    "\n",
    "def get_ref(fig):\n",
    "    return extract_from_between(fig, '){', '}').split(' ')[0]\n",
    "    \n",
    "def get_filename(fig):\n",
    "    return extract_from_between(fig, '](', '){')\n",
    "\n",
    "def get_caption(fig):\n",
    "    return extract_from_between(fig, '![', '](')\n",
    "\n",
    "def get_new_ext(fname, ext, new_ext):\n",
    "    return fname.replace(ext, new_ext)"
   ]
  },
  {
   "cell_type": "markdown",
   "metadata": {},
   "source": [
    "Apparently, we need to render each html figure to find their height in the final markdown/html document."
   ]
  },
  {
   "cell_type": "code",
   "execution_count": 9,
   "metadata": {},
   "outputs": [
    {
     "name": "stderr",
     "output_type": "stream",
     "text": [
      "/Users/doppler/anaconda3/envs/nitrateflux/lib/python3.7/site-packages/selenium/webdriver/phantomjs/webdriver.py:49: UserWarning: Selenium support for PhantomJS has been deprecated, please use headless versions of Chrome or Firefox instead\n",
      "  warnings.warn('Selenium support for PhantomJS has been deprecated, please use headless '\n"
     ]
    }
   ],
   "source": [
    "from selenium import webdriver\n",
    "driver = webdriver.PhantomJS()\n",
    "\n",
    "def get_max_html_height(fname_html):\n",
    "    driver.get('file://'+os.getcwd()+'/'+fname_html)\n",
    "    return max([e.size['height'] for e in driver.find_elements_by_class_name('bk')])"
   ]
  },
  {
   "cell_type": "markdown",
   "metadata": {},
   "source": [
    "Update figure captions"
   ]
  },
  {
   "cell_type": "code",
   "execution_count": 10,
   "metadata": {},
   "outputs": [],
   "source": [
    "def add_interactive_figure(fig, paper):\n",
    "    fname = get_filename(fig)\n",
    "    cap = get_caption(fig)\n",
    "    ref = get_ref(fig)\n",
    "    ext = fname.split('.')[-1]\n",
    "\n",
    "    fname_html = get_new_ext(fname, ext, 'html')\n",
    "    if exists(fname_html):\n",
    "        paper = paper.replace(fname, fname_html)\n",
    "        \n",
    "        height_html = get_max_html_height(fname_html)\n",
    "        new_ref = ref.split(' ')[0] + f' width=100% height={height_html}'\n",
    "        paper = paper.replace(ref, new_ref)\n",
    "\n",
    "    replace_caption = False\n",
    "    for new_ext in ['csv', 'nc', 'hvz']:\n",
    "        new_cap = cap + f\" Machine-readable formats of this figure: \"\n",
    "        if exists(get_new_ext(fname, ext, new_ext)):\n",
    "            replace_caption = True\n",
    "            new_cap = new_cap + f\"[{get_new_ext(fname, ext, new_ext)}.split('/')[-1]]({get_new_ext(fname, ext, new_ext)})\"\n",
    "    if replace_caption:\n",
    "        paper = paper.replace(cap, new_cap)\n",
    "        \n",
    "    return paper\n",
    "\n",
    "    \n",
    "\n",
    "for fig in figs:\n",
    "    paper = add_interactive_figure(fig, paper)"
   ]
  },
  {
   "cell_type": "markdown",
   "metadata": {},
   "source": [
    "Finally, replace figures if there is a predefined new caption in the file [interactive_captions.md](interactive_captions.md) for their interactive version (Figures identified by their reference tags)."
   ]
  },
  {
   "cell_type": "raw",
   "metadata": {},
   "source": [
    "[get_ref(f) for f in figs]"
   ]
  },
  {
   "cell_type": "raw",
   "metadata": {},
   "source": [
    "get_ref(new_figs[0])"
   ]
  },
  {
   "cell_type": "code",
   "execution_count": 13,
   "metadata": {},
   "outputs": [],
   "source": [
    "figs = [s for s in paper.split('\\n') if s.startswith('![')]\n",
    "new_figs = [s for s in newcaps.split('\\n') if s.startswith('![')]\n",
    "\n",
    "# paper = paper.replace('.png)', '.html)')\n",
    "\n",
    "for o, n in [\n",
    "    (old, new)\n",
    "    for old in figs for new in new_figs\n",
    "    if get_ref(old)==get_ref(new)\n",
    "]:\n",
    "    paper = paper.replace(o, n)"
   ]
  },
  {
   "cell_type": "code",
   "execution_count": 14,
   "metadata": {},
   "outputs": [],
   "source": [
    "write_paper(paper, 'paper_interactive.md')"
   ]
  }
 ],
 "metadata": {
  "kernelspec": {
   "display_name": "Python 3",
   "language": "python",
   "name": "python3"
  },
  "language_info": {
   "codemirror_mode": {
    "name": "ipython",
    "version": 3
   },
   "file_extension": ".py",
   "mimetype": "text/x-python",
   "name": "python",
   "nbconvert_exporter": "python",
   "pygments_lexer": "ipython3",
   "version": "3.7.3"
  }
 },
 "nbformat": 4,
 "nbformat_minor": 4
}
