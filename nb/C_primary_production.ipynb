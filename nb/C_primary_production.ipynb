{
 "cells": [
  {
   "cell_type": "markdown",
   "metadata": {},
   "source": [
    "# Preamble"
   ]
  },
  {
   "cell_type": "markdown",
   "metadata": {},
   "source": [
    "This notebook deals with the comparison between [inventories](link) and [fluxes](link) of nitrate on one hand, and different aspects of primary production on the other, such as net primary production, new production, and export fluxes.\n",
    "\n",
    "All figures exported from this notebook are prefixes by `FIGURE_PP_`."
   ]
  },
  {
   "cell_type": "code",
   "execution_count": null,
   "metadata": {},
   "outputs": [],
   "source": [
    "%load_ext autoreload\n",
    "%autoreload 2\n",
    "%run imports.py\n",
    "\n",
    "dims = dict(\n",
    "    FN=hv.Dimension('FN', label='Nitrate flux', unit='mmol N m⁻² d⁻¹', range=(.005, 10)),\n",
    "    pp_no3_eq=hv.Dimension('pp_no3_eq', label='NPP', unit='mmol N m⁻² d⁻¹'),\n",
    "    flux=hv.Dimension('flux', label='N flux', unit='mmol N m⁻² d⁻¹', range=(.01, 10)),\n",
    ")"
   ]
  },
  {
   "cell_type": "markdown",
   "metadata": {
    "toc-hr-collapsed": true
   },
   "source": [
    "# Net primary production\n",
    "\n",
    "First, we visualize annual net primary production inferred using ocean colour [@arrigo2015continued] as an average summer value during the last two decades. This map can then be compared with observed upward fluxes of nitrate during winter. It will not come as a surprise that NPP several times larger than the upward nitrate fluxes as it includes a considerable fraction regenerated production."
   ]
  },
  {
   "cell_type": "markdown",
   "metadata": {},
   "source": [
    "`FIGURE_PP_map_NPP-FN`"
   ]
  },
  {
   "cell_type": "markdown",
   "metadata": {},
   "source": [
    "## Annual average maps"
   ]
  },
  {
   "cell_type": "markdown",
   "metadata": {},
   "source": [
    "Data were acquired as binary files through personal contact with G. van Dijken and K. Arrigo and converted to the netcdf format."
   ]
  },
  {
   "cell_type": "code",
   "execution_count": null,
   "metadata": {},
   "outputs": [],
   "source": [
    "if os.path.exists('../data/primprod/'):\n",
    "    ds = xr.open_mfdataset(\n",
    "        '../data/primprod/*summer_05-09_mean.nc',\n",
    "        concat_dim='date', combine='nested').compute()\n",
    "    ds = ds.mean(dim='date')\n",
    "    df = ds.to_dataframe()\n",
    "    df['pp_no3_eq'] = df.pp / 12 * 16 / 106\n",
    "    # df.pp /= 1e3\n",
    "\n",
    "    def logmean(x):\n",
    "        return np.nanmedian(np.log10(x))\n",
    "\n",
    "    options = (\n",
    "        opts.HexTiles(aggregator=logmean, projection=ccrs.NorthPolarStereo(), gridsize=30,\n",
    "                      tools=['hover'], colorbar_opts=dict(major_label_text_font_size='12pt'),\n",
    "                      colorbar=True, width=570, height=510, cmap=default_cmap,\n",
    "                      hooks=[logcolor_ticks([.4, 1., 3, 10, 30, 60])]),\n",
    "        opts.Feature(scale='50m'),\n",
    "    )\n",
    "\n",
    "    pp = gv.HexTiles(df, ['lon', 'lat'], 'pp_no3_eq')\n",
    "    l = pp * land\n",
    "    l = l.redim(**dims).opts(*options)\n",
    "    hv.save(l, '../nb_fig/FIGURE_PP_map', fmt='html')\n",
    "else:\n",
    "    print('Data not available')"
   ]
  },
  {
   "cell_type": "markdown",
   "metadata": {},
   "source": [
    "Pan-Arctic patterns of annual net primary production show a very productive Atlantic sector, somewhat lower values in the Beaufort Sea, and a very oligotrophic central basin, similar to winter fluxes of nitrate. The main difference difference is that net primary production is at least an order of magnitude larger than any of the fluxes, so it seems hard to get more out of this than qualitative agreement at best.\n",
    "\n",
    "The reason is of course that \"net primary production\" includes regenerated production, meaning the same nitrogen is just recycled over and over again, and can mostly do without input of new nitrogen."
   ]
  },
  {
   "cell_type": "code",
   "execution_count": null,
   "metadata": {},
   "outputs": [],
   "source": [
    "display(HTML('../nb_fig/FIGURE_PP_map.html'))"
   ]
  },
  {
   "cell_type": "markdown",
   "metadata": {},
   "source": [
    "# Pan-Arctic comparison of winter nitrate fluxes with annual new and export production "
   ]
  },
  {
   "cell_type": "markdown",
   "metadata": {},
   "source": [
    "First, we need to compile pan-Arctic estimates of annual new "
   ]
  },
  {
   "cell_type": "markdown",
   "metadata": {},
   "source": [
    "## New production"
   ]
  },
  {
   "cell_type": "markdown",
   "metadata": {},
   "source": [
    "Sakshaug's 2004 article in \"The Organic Carbon Cycle in the Arctic Ocean\" by Stein & MacDonald (eds.) has a good compilation. We use the following values:"
   ]
  },
  {
   "cell_type": "code",
   "execution_count": null,
   "metadata": {},
   "outputs": [],
   "source": [
    "gC_per_yr_to_mmolN_per_day = 1. /12 /106*16 * 1e3/365\n",
    "\n",
    "data = {\n",
    "    # Area: new production estimate in [gC / yr]\n",
    "    'Barents Sea': [8., 100],\n",
    "    'Chukchi Sea': [5, 160],\n",
    "    'Beaufort Sea': [7, 17],\n",
    "    'Baffin Bay': [25, 50],\n",
    "    'Central basin': [.5]\n",
    "}\n",
    "\n",
    "df = pd.DataFrame(zip(*[(k, v) for k, vs in data.items() for v in vs]), index=['Area', 'newp']).transpose()\n",
    "df.newp = gC_per_yr_to_mmolN_per_day * df.newp.astype(float)\n",
    "\n",
    "df = df.groupby('Area').mean().reset_index()\n",
    "\n",
    "df_newp = df.copy()"
   ]
  },
  {
   "cell_type": "markdown",
   "metadata": {},
   "source": [
    "## Export flux of particulate organic carbon"
   ]
  },
  {
   "cell_type": "markdown",
   "metadata": {},
   "source": [
    "The basis of our brief discussion of POC export fluxes are the values compiled by I. Wiedmann's PhD thesis (2015, Fig. 2), supplemented with a number of additional references to increase data coverage in selected regions."
   ]
  },
  {
   "cell_type": "markdown",
   "metadata": {},
   "source": [
    "### Ingrid Wiedmann, Fig. 2 PhD thesis"
   ]
  },
  {
   "cell_type": "markdown",
   "metadata": {},
   "source": [
    "These values are all valid for a depth of 200 m."
   ]
  },
  {
   "cell_type": "markdown",
   "metadata": {},
   "source": [
    "Because the raw data to produce the graph was not available at the time of writing, we did some screen grabbing  using a custom python script. This script is saved as [grab_data.py](../data/wiedmann2015_export_fluxes/grab_data.py), alongside the [original](../data/wiedmann2015_export_fluxes/Wiedmann-Figure2_legend.png) and the [reproduced](../data/wiedmann2015_export_fluxes/Wiedmann-Figure2-recreated.png) figure."
   ]
  },
  {
   "cell_type": "code",
   "execution_count": null,
   "metadata": {},
   "outputs": [],
   "source": [
    "# extracted raw coordinates relative to the png\n",
    "xy = pd.read_csv('../data/wiedmann2015_export_fluxes/coords.csv', index_col=[0])[['x', 'y']]\n",
    "\n",
    "# x0, ...: figure coordinates\n",
    "# x0d, ...: data coordinates. y: logscale!\n",
    "x0, x1, y0, y1 = xy.loc[0, 'x'], xy.loc[1, 'x'], xy.loc[0, 'y'], xy.loc[2, 'y']\n",
    "x0d, x1d, y0d, y1d = 1., 12., 0., 3.\n",
    "\n",
    "def convertx(c):\n",
    "    return round((c-x0)/(x1-x0) * (x1d-x0d) + x0d)\n",
    "\n",
    "def converty(c):\n",
    "    return (c-y0)/(y1-y0) * (y1d-y0d) + y0d\n",
    "\n",
    "df = dd.read_csv('../data/wiedmann2015_export_fluxes/wiedmann2015_fig2/*.csv').compute()\n",
    "\n",
    "df['month'] = df.x.apply(convertx)\n",
    "df['exp'] = 10**df.y.apply(converty)\n",
    "\n",
    "df['exp_n_eq'] = df.exp /12 /106 *16\n",
    "df = df.drop(columns=['x', 'y'])\n",
    "\n",
    "# Sorting data\n",
    "\n",
    "df['Season'] = 'Winter'\n",
    "df.loc[df.month.between(4, 9), 'Season'] = 'Summer'\n",
    "\n",
    "df['Area'] = ''\n",
    "\n",
    "df.loc[df.ref.str.contains('barents'), 'Area'] = 'Barents Sea'\n",
    "df.loc[df.ref.str.contains('nsvalbard'), 'Area'] = 'Barents Sea'\n",
    "df.loc[df.ref.str.contains('beaufort-amundsen'), 'Area'] = 'Amundsen Gulf'\n",
    "df.loc[df.ref.str.contains('baffin|nwp'), 'Area'] = 'Baffin Bay'\n",
    "df.loc[df.ref.str.contains('kara'), 'Area'] = 'Kara'\n",
    "df.loc[df.ref.str.contains('nwp'), 'Area'] = 'Northwater'\n",
    "df.loc[df.ref.str.contains('greenland'), 'Area'] = 'Greenland Sea'"
   ]
  },
  {
   "cell_type": "code",
   "execution_count": null,
   "metadata": {},
   "outputs": [],
   "source": [
    "l = hv.Dataset(df, ['month', 'exp', 'ref']).to(hv.Points, groupby='ref').overlay().opts(\n",
    "    opts.Points(legend_position='right', width=700, height=500, size=10, logy=True, padding=.1, jitter=.1)\n",
    ")\n",
    "hv.save(l.opts(toolbar=None), '../data/wiedmann2015_export_fluxes/Wiedmann-Figure2-recreated.png')"
   ]
  },
  {
   "cell_type": "markdown",
   "metadata": {},
   "source": [
    "### Some additional export estimates"
   ]
  },
  {
   "cell_type": "markdown",
   "metadata": {},
   "source": [
    "These all pertain to the Canadian Basin."
   ]
  },
  {
   "cell_type": "code",
   "execution_count": null,
   "metadata": {},
   "outputs": [],
   "source": [
    "#Honjo et al. 2010\n",
    "flux = [0.05, 0.65] # gC m-2 yr-1\n",
    "\n",
    "#Cai et al. 2010\n",
    "flux.append(0.9) # gC m-2 yr-1\n",
    "\n",
    "# convert to mmol N m-2 d-1\n",
    "flux =  np.array(flux) / 12/106*16 *1e3/365\n",
    "\n",
    "df = df.append(pd.DataFrame(dict(exp_n_eq=flux, Season='Summer', Area='Canadian Basin')), sort=False)\n",
    "\n",
    "df_exp = df.copy()"
   ]
  },
  {
   "cell_type": "markdown",
   "metadata": {},
   "source": [
    "TBD\n",
    "\n",
    "miquel2015downward:\n",
    "\n",
    "`0.2–2.5 mg N m−2 d−1`"
   ]
  },
  {
   "cell_type": "code",
   "execution_count": null,
   "metadata": {},
   "outputs": [],
   "source": [
    "print(0.2/14)\n",
    "print('--')\n",
    "print(2.5/14)"
   ]
  },
  {
   "cell_type": "code",
   "execution_count": null,
   "metadata": {},
   "outputs": [],
   "source": [
    "500/12/106*16"
   ]
  },
  {
   "cell_type": "markdown",
   "metadata": {},
   "source": [
    "## Plot"
   ]
  },
  {
   "cell_type": "code",
   "execution_count": null,
   "metadata": {},
   "outputs": [],
   "source": [
    "options = opts.BoxWhisker(\n",
    "    xrotation=45, xlabel='', logy=True, padding=.1, toolbar=None, yticks=[0.1, 1, 5, 10],\n",
    "    height=500, width=500,\n",
    ")\n",
    "\n",
    "exp = hv.BoxWhisker(df_exp, ['Season', 'Area'], hv.Dimension('exp_n_eq', label='C export, Redfield N-equiv.', unit='mg N m-2 d-1'))\n",
    "exp.opts(options)"
   ]
  },
  {
   "cell_type": "markdown",
   "metadata": {},
   "source": [
    "## Nitrate fluxes"
   ]
  },
  {
   "cell_type": "code",
   "execution_count": null,
   "metadata": {},
   "outputs": [],
   "source": [
    "df_fn = pd.read_csv('../data/fn-compilation.csv')\n",
    "\n",
    "fn = hv.BoxWhisker(df_fn, ['Season', 'Area'], hv.Dimension('FN', label='FN', unit='mg N m-2 d-1'))\n",
    "fn.opts(options)"
   ]
  },
  {
   "cell_type": "markdown",
   "metadata": {},
   "source": [
    "## Merge compilations of export production, new production, and nitrate fluxes"
   ]
  },
  {
   "cell_type": "code",
   "execution_count": null,
   "metadata": {},
   "outputs": [],
   "source": [
    "data = (\n",
    "    df_fn\n",
    "    .replace({'Perennial':'Winter', 'Barents Sea, AABC': 'Barents Sea',\n",
    "                       'N Svalbard/Fram Strait': 'Barents Sea', 'Canada Basin': 'Central basin', \n",
    "                       'Makarov Basin': 'Central basin', 'Amundsen Gulf': 'Beaufort Sea'})\n",
    "    .groupby(['Season', 'Area']).mean()[['FN', 'FN_ci_lo', 'FN_ci_hi']].loc['Winter'].reset_index()\n",
    "    .merge(\n",
    "        df_exp\n",
    "        .replace({'Amundsen Gulf': 'Beaufort Sea', 'Canadian Basin': 'Central basin'})\n",
    "        .groupby(['Season', 'Area']).mean()['exp_n_eq'].loc['Summer'].reset_index(),\n",
    "        how='outer'\n",
    "    )\n",
    "    .merge(\n",
    "        df_newp, \n",
    "        how='outer'\n",
    "    )\n",
    "    .groupby('Area').mean()\n",
    ")\n",
    "\n",
    "data.columns = pd.MultiIndex.from_tuples([('FN', 'flux'), ('FN', 'flux_lower'), ('FN', 'flux_upper'), ('exp_n_eq', 'flux'), ('newp', 'flux')], names=['kind', 'val'])\n",
    "\n",
    "df = data.stack(0).reset_index()\n",
    "\n",
    "df = df.replace({'exp_n_eq': 'Vertical export', 'FN': 'Upward NO₃ flux', 'newp': 'New production'})\n",
    "\n",
    "# Subset to areas with good enough data coverage\n",
    "df = df.loc[df.Area.isin(['Baffin Bay', 'Barents Sea', 'Beaufort Sea', 'Central basin'])]\n",
    "\n",
    "df.head()"
   ]
  },
  {
   "cell_type": "code",
   "execution_count": null,
   "metadata": {},
   "outputs": [],
   "source": [
    "def add_whiskers(df):\n",
    "    cats = [(s, a) for s, a in zip(df.Area, df.kind)]\n",
    "    mean = df.flux\n",
    "    upper = df.flux_upper\n",
    "    lower = df.flux_lower\n",
    "    \n",
    "    whisker_opts = dict(line_color='black', line_width=2)\n",
    "    \n",
    "    def hook(plot, element):\n",
    "        whisker_width = 0.18\n",
    "        whisker_box_height = 1e-5 # practically zero\n",
    "        p = plot.state\n",
    "        p.segment(cats, upper, cats, lower, **whisker_opts)\n",
    "        p.rect(cats, upper, whisker_width, whisker_box_height, **whisker_opts)\n",
    "        p.rect(cats, lower, whisker_width, whisker_box_height, **whisker_opts)\n",
    "    return hook\n",
    "\n",
    "hv.renderer('bokeh').theme = theme\n",
    "\n",
    "options = [opts.Bars(\n",
    "    color=hv.Cycle(['#AA5F77', '#2DA3A2', '#D6AE4A']),\n",
    "    backend='bokeh',\n",
    "    xrotation=45, xlabel='', logy=True, yticks=[.01, 0.1, 1, 10],\n",
    "    width=800, height=400, \n",
    "    fontsize={v: 14 for v in ['ylabel', 'xlabel', 'yticks', 'xticks']},\n",
    "    line_width=3, yformatter='%g', show_legend=True,\n",
    "    tools=['hover'],\n",
    "    toolbar=None,\n",
    "    hooks=[add_whiskers(df)]\n",
    ")]\n",
    "\n",
    "l = hv.Bars(df, ['Area', 'kind'], 'flux').opts(*options).redim(**dims)\n",
    "fname = '../nb_fig/FIGURE_PP_FN_NEWP_EXP_regional'\n",
    "hv.save(l, fname, fmt='png')\n",
    "hv.save(l, fname, fmt='html')\n",
    "save_bokeh_svg(l, fname+'.svg')\n",
    "l"
   ]
  },
  {
   "cell_type": "markdown",
   "metadata": {},
   "source": [
    "# Single case studies"
   ]
  },
  {
   "cell_type": "markdown",
   "metadata": {},
   "source": [
    "First, manually enter the data from the studies."
   ]
  },
  {
   "cell_type": "code",
   "execution_count": null,
   "metadata": {},
   "outputs": [],
   "source": [
    "## Randelhoff et al 2016 JGR\n",
    "\n",
    "df = pd.DataFrame(dict(\n",
    "    FN=[1.2, 0.6, 0.3, 1.1, 0.3, 0.1], \n",
    "    newP=[2.6, 3.1, 8.4, 0.015, 0.018, 0.048],\n",
    "    #station=['P1', 'P3', 'P4', 'P5', 'P6', 'P7'], \n",
    "    season=['spring', 'spring', 'spring', 'summer', 'summer', 'summer']\n",
    "))\n",
    "\n",
    "df = df.set_index('season').stack().rename('flux')\n",
    "\n",
    "df = df.rename_axis(['season', 'kind']).reset_index()\n",
    "\n",
    "df = df.replace(dict(spring='Spring', summer='Summer', newP='New prod.', FN='NO3 flux')).assign(ref='aRandelhoff et al. (2016)')\n",
    "\n",
    "## Nishino et al 2018\n",
    "\n",
    "df = df.append(\n",
    "    pd.DataFrame({'New prod.': 0.24, 'NO3 flux': .19,}, index=[0]).stack()\n",
    "    .rename('flux').rename_axis(('','kind')).reset_index(1)\n",
    "    .assign(season='Summer', ref='bNishino et al. (2018)'),\n",
    "    sort=False, ignore_index=True\n",
    ")\n",
    "\n",
    "# Also append our Young Sound data\n",
    "\n",
    "def YS_newP():\n",
    "    \"\"\"\n",
    "    Load Young Sound new production estimates\n",
    "    \"\"\"\n",
    "    df = pd.read_csv('../data/youngsound2015/YS2015_N15_inc.csv')\n",
    "    df = df.rename(columns={\n",
    "        'newProd_uM_N_d-1': 'newP', 'regProd_uM_N_d-1': 'regP', \n",
    "        'depth_m': 'depth', 'NOx_init_uM': 'NOx',\n",
    "    })\n",
    "    df['fratio'] = df.newP / (df.newP + df.regP)\n",
    "    \n",
    "    # It is difficult to estimate integrated new production \n",
    "    # from measurements at only two depths. Here we give two very rough estimates:\n",
    "    # One is conservative:\n",
    "    # by assuming the 5 m value holds in the [0-5 m] interval and the 20 m value holds over [5, 20].\n",
    "    newPint_lo = (\n",
    "        df.set_index(['depth', 'station']).newP.to_xarray()\n",
    "        * xr.DataArray(data=[5, 15], coords=dict(depth=[5, 20]), dims=['depth'])\n",
    "    ).sum(dim='depth').rename('newPint').to_dataframe().assign(estimate='lo')\n",
    "    # the other one is presumably much larger than the real value: We assume the 5-m value holds down to 20m, \n",
    "    # and the 20-m value holds down to 40 m\n",
    "    newPint_hi = (\n",
    "        df.set_index(['depth', 'station']).newP.to_xarray()\n",
    "        * xr.DataArray(data=[20, 20], coords=dict(depth=[5, 20]), dims=['depth'])\n",
    "    ).sum(dim='depth').rename('newPint').to_dataframe().assign(estimate='hi')\n",
    "    return pd.concat([newPint_hi, newPint_lo])\n",
    "\n",
    "def YS_FN():\n",
    "    \"\"\"\n",
    "    Load Young Sound nitrate fluxes\n",
    "    \"\"\"\n",
    "    df = xr.load_dataset('../data/youngsound2015/YS2015_FN.nc').to_dataframe()\n",
    "    on_sill = df.station.isin(['YS3.02', 'GH01', 'Tyro07']) | df.station.str.contains('SILL')\n",
    "    df.loc[on_sill, 'station_type'] = 'sills'\n",
    "    df.loc[~on_sill, 'station_type'] = 'interior'\n",
    "    return df.assign(kind='NO₃ flux, '+df.station_type)[['FN', 'kind']]\n",
    "\n",
    "df = df.append(\n",
    "    pd.concat([\n",
    "        YS_newP().newPint.rename('flux').to_frame()\n",
    "        .assign(kind='New prod.'), \n",
    "        YS_FN().rename(columns={'FN': 'flux'}),\n",
    "    ], sort=False).assign(ref='cYoung Sound', season='Summer'),\n",
    "    sort=False\n",
    ")"
   ]
  },
  {
   "cell_type": "code",
   "execution_count": null,
   "metadata": {},
   "outputs": [],
   "source": [
    "options = (\n",
    "    opts.BoxWhisker(logy=True, xlabel='', xrotation=45, yformatter='%g',\n",
    "                    frame_width=600, frame_height=200, box_fill_color='grey',\n",
    "                    padding=.1, tools=['hover']),\n",
    ")\n",
    "\n",
    "l = hv.BoxWhisker(\n",
    "    df.replace('NO3 flux', 'NO₃ flux'), \n",
    "    [hv.Dimension('ref', value_format=lambda s: s[1:]), 'season', 'kind'], \n",
    "    hv.Dimension('flux', label='N flux', range=(.01, 10), unit=u'mmol N m\\u207B\\u00B2 d\\u207B\\u00B9')\n",
    ")\n",
    "l = l.opts(*options)\n",
    "panelA = l.clone().opts(title='A')"
   ]
  },
  {
   "cell_type": "markdown",
   "metadata": {},
   "source": [
    "# Seasonal cycle of DON and PON (Paulsen et al., 2019)"
   ]
  },
  {
   "cell_type": "markdown",
   "metadata": {},
   "source": [
    "First, enter the values given in their Table 1."
   ]
  },
  {
   "cell_type": "code",
   "execution_count": null,
   "metadata": {},
   "outputs": [],
   "source": [
    "df = pd.DataFrame(dict(\n",
    "    Month=[1, 3, 5, 8, 11],\n",
    "    DON=   [84., 51, 35, 109, 81],\n",
    "    DONerr=[9, 32, 22, 36, 10],\n",
    "    PON=   [4., 8, 46, 30, 3],\n",
    "    PONerr=[1, 5, 41, 17, 1]\n",
    "))"
   ]
  },
  {
   "cell_type": "markdown",
   "metadata": {},
   "source": [
    "Then define an NdOverlay of Spread elements:"
   ]
  },
  {
   "cell_type": "code",
   "execution_count": null,
   "metadata": {},
   "outputs": [],
   "source": [
    "griddict = {pool: hv.Spread(df, 'Month', [pool, pool+'err'])\n",
    "            for pool in ['PON', 'DON']}\n",
    "\n",
    "options = [\n",
    "    opts.Curve(padding=.1, line_width=3, width=500, tools=['hover'], align='end',\n",
    "               xticks=[(1, 'Jan'), (3, 'Mar'), (5, 'May'), (8, 'Aug'), (11, 'Nov')]),\n",
    "    opts.NdOverlay(legend_position='top_left'),\n",
    "]\n",
    "\n",
    "err = hv.HoloMap(griddict)\n",
    "conc = err.map(hv.Curve, hv.Spread)\n",
    "\n",
    "l = err*conc\n",
    "l = l.overlay()\n",
    "l.opts(*options)\n",
    "for c, g in zip(['k', 'g'], ['PON', 'DON']):\n",
    "    l[g].opts(opts.Curve(color=c), opts.Spread(color=c))\n",
    "\n",
    "l = l.redim(DON=hv.Dimension('DON', label='DON, PON', unit='µM'))\n",
    "panelB = l.clone().opts(title='B')"
   ]
  },
  {
   "cell_type": "code",
   "execution_count": null,
   "metadata": {},
   "outputs": [],
   "source": [
    "l = (panelA + panelB).cols(1)"
   ]
  },
  {
   "cell_type": "code",
   "execution_count": null,
   "metadata": {},
   "outputs": [],
   "source": [
    "fname = '../nb_fig/FIGURE_PP_incubations_vs_flux'\n",
    "hv.save(l, fname, fmt='html')\n",
    "hv.output(l)\n",
    "l = l.opts(toolbar=None)\n",
    "hv.save(l, fname, fmt='png')\n",
    "save_bokeh_svg_multipanel(l, fname+'.svg', 'v', align='start')"
   ]
  }
 ],
 "metadata": {
  "kernelspec": {
   "display_name": "Python 3",
   "language": "python",
   "name": "python3"
  },
  "language_info": {
   "codemirror_mode": {
    "name": "ipython",
    "version": 3
   },
   "file_extension": ".py",
   "mimetype": "text/x-python",
   "name": "python",
   "nbconvert_exporter": "python",
   "pygments_lexer": "ipython3",
   "version": "3.7.3"
  },
  "toc-autonumbering": true
 },
 "nbformat": 4,
 "nbformat_minor": 4
}
