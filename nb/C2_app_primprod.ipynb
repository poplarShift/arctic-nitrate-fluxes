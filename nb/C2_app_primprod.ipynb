{
 "cells": [
  {
   "cell_type": "markdown",
   "metadata": {},
   "source": [
    "# PP exploration dashboard "
   ]
  },
  {
   "cell_type": "markdown",
   "metadata": {},
   "source": [
    "Todo:\n",
    "\n",
    "- put detailed data into cloud-accessible file format"
   ]
  },
  {
   "cell_type": "markdown",
   "metadata": {},
   "source": [
    "- define dashboard. elements:\n",
    "    - panes:\n",
    "        - map of yearly mean\n",
    "            - widgets \n",
    "                - year start/stop\n",
    "                - select region for timeseries\n",
    "        - yearly timeseries\n",
    "        - climatology\n",
    "    - widgets:\n",
    "        - for map, yearly timeseries:\n",
    "            - mean/int over months\n",
    "            - month start/stop"
   ]
  },
  {
   "cell_type": "markdown",
   "metadata": {
    "toc-hr-collapsed": true
   },
   "source": [
    "### Arrigo & von Dijken database"
   ]
  },
  {
   "cell_type": "markdown",
   "metadata": {},
   "source": [
    "\n",
    "On Nov 16, 2017, at 11:51 AM, Gert van Dijken <gertvd@stanford.edu> wrote:\n",
    "\n",
    "Hi Achim,\n",
    "\n",
    "Glad to hear.  Yes, they are single precision float, 32 bit or 4 bytes, sorry, I just said 'plain binary'.  And indeed, production maps are the same. \n",
    "\n",
    "Enjoy!\n",
    "Gert\n",
    "\n",
    "----\n",
    "\n",
    "On Nov 16, 2017, at 6:15 AM, Achim Randelhoff <Achim.Randelhoff@npolar.no> wrote:\n",
    "\n",
    "Hi Gert,\n",
    "\n",
    "thank you very much! I only got sensible lat/lon coordinates when I\n",
    "interpreted the binaries as single-precision floats (float32), so I am\n",
    "assuming the same holds for the productivity maps.\n",
    "It looks good so far, I will look into this in the coming months.\n",
    "\n",
    "Cheers,\n",
    "Achim\n",
    "\n",
    "----\n",
    "\n",
    "On Nov 13, 2017, at 12:32 PM, Gert van Dijken <gertvd@stanford.edu> wrote:\n",
    "\n",
    "Hi Achim,\n",
    "\n",
    "I made our productivity data available on our website.  You can find it at: http://albedo.stanford.edu/gertvd/research/arctic/prod/\n",
    "\n",
    "There are two directories, one is containing the navigation data and the other one the productivity data.  They are all plain binary files, containing arrays of 750x750 pixels (maps, datatype: float).  I put all daily maps together in one gzipped tar-file.   Units are mg C/m2/day.  The files starting with an A or based on MODIS/Aqua Chl a, and the ones starting with an S on SeaWiFS Chl.\n",
    "\n",
    "The navigation files contain a similar array of 750x750 pixels.  Each will have the latitude or longitude value of the corresponding pixel of the production files.\n",
    "\n",
    "Hope it all makes sense, if now let me know and I will try to help.\n",
    "\n",
    "Yes, please let us know when you use the data for publication or share with other people.\n",
    "\n",
    "Good luck!\n",
    "Gert"
   ]
  },
  {
   "cell_type": "code",
   "execution_count": null,
   "metadata": {},
   "outputs": [],
   "source": [
    "pp = []\n",
    "\n",
    "for thisyear in np.arange(2012,2016):\n",
    "    for thisdoy in range(100,301):\n",
    "\n",
    "        datadir = '/Users/doppler/databases/vandijken_arrigo_PP/'\n",
    "        yeardir = 'prod_data/prod_A_%i/' % thisyear  # _A_ meaning MODIS/Aqua, see above\n",
    "\n",
    "        filedate = '%4i%03i' % (thisyear, thisdoy)\n",
    "\n",
    "        lat=fromfile(datadir+'nav_data/lats_750x750_4f.flat',dtype='float32')\n",
    "        lon=fromfile(datadir+'nav_data/lons_750x750_4f.flat',dtype='float32')\n",
    "\n",
    "        p=fromfile(datadir+yeardir+filedate+'_A_R2014.0_L3b_reanal1_d4_c2chl_90p0_prod.bin',dtype='float32')\n",
    "        p=np.where(p==-99.0,np.nan,p)\n",
    "\n",
    "        pp.append(xr.Dataset(\n",
    "            data_vars=dict(\n",
    "                pp=(['date', 'pos'], p[np.newaxis,:])\n",
    "            ),\n",
    "            coords=dict(\n",
    "                date=[dt.datetime(thisyear,1,1)+dt.timedelta(thisdoy-1)],\n",
    "                pos=(['pos'], np.arange(len(lat))),\n",
    "                lon=(['pos'], lon),\n",
    "                lat=(['pos'], lat)\n",
    "            ),\n",
    "            attrs=dict(\n",
    "                pp='Prim Prod, mg C/m2/d'\n",
    "            )\n",
    "        ))\n",
    "        \n",
    "pp = xr.concat(pp,dim='date')\n",
    "pp"
   ]
  },
  {
   "cell_type": "markdown",
   "metadata": {},
   "source": [
    "#### Derive yearly PP, OWD..."
   ]
  },
  {
   "cell_type": "code",
   "execution_count": null,
   "metadata": {},
   "outputs": [],
   "source": [
    "bins = pd.date_range(start='2014', periods=3, freq='YS') #end=dt.datetime(2009,1,1)\n",
    "groups = pp.pp.groupby_bins(\n",
    "    group='date',\n",
    "    bins=bins,\n",
    "    labels=bins[:-1]\n",
    "    # labels=bins[:-1] + (bins[1:] - bins[:-1])/2\n",
    ")\n",
    "pp_annual = groups.sum(dim='date')/1000\n",
    "pp_count = groups.count(dim='date')"
   ]
  },
  {
   "cell_type": "code",
   "execution_count": null,
   "metadata": {},
   "outputs": [],
   "source": [
    "pp = xr.Dataset(dict(pp=pp_annual, owd=pp_count)\n",
    "              ).rename(dict(date_bins='date')).to_dataframe().reset_index()\n",
    "pp.head()"
   ]
  },
  {
   "cell_type": "markdown",
   "metadata": {},
   "source": [
    "#### to dataframe, do lat/lon binning"
   ]
  },
  {
   "cell_type": "code",
   "execution_count": null,
   "metadata": {},
   "outputs": [],
   "source": [
    "p=pp.copy()\n",
    "\n",
    "latbins=np.arange(np.floor(pp.lat.min()), np.ceil(pp.lat.max()), 1)\n",
    "p.lat = pd.cut(p.lat, bins=latbins, labels=(latbins[:-1]+latbins[1:])/2)\n",
    "lonbins=np.arange(-180.5, 180.5, 5)\n",
    "p.lon = pd.cut(p.lon, bins=lonbins, labels=(lonbins[:-1]+lonbins[1:])/2)\n",
    "\n",
    "\n",
    "pa = p.groupby(['date','lon','lat']).mean()\n",
    "p = pa.unstack(level=0)#.reset_index()\n",
    "pa = pa.reset_index()\n",
    "\n",
    "p.dropna().head()"
   ]
  },
  {
   "cell_type": "markdown",
   "metadata": {},
   "source": [
    "#### regression OWD-pp"
   ]
  },
  {
   "cell_type": "code",
   "execution_count": null,
   "metadata": {},
   "outputs": [],
   "source": [
    "def lsq(row):\n",
    "    x=row['owd'].values\n",
    "    y=row['pp'].values\n",
    "    if len(x)==0 or len(y)==0:\n",
    "        return [np.nan, np.nan]\n",
    "    else:\n",
    "        mask = ~np.isnan(x)\n",
    "        x, y = x[mask], y[mask]\n",
    "        if (len(np.unique(x))>1):\n",
    "            return list(np.polyfit(x=x, y=y, deg=1))\n",
    "        else:\n",
    "            return [np.nan, np.nan]        \n",
    "\n",
    "reg = p.apply(axis=1, func=lsq)\n",
    "\n",
    "reg = pd.DataFrame(reg.values.tolist(), \n",
    "                    columns=['slope', 'y0'],\n",
    "                    index=reg.index)"
   ]
  },
  {
   "cell_type": "raw",
   "metadata": {},
   "source": [
    "def lsq(x,y):\n",
    "    if len(x)==0 or len(y)==0:\n",
    "        return [np.nan, np.nan]\n",
    "    else:\n",
    "        mask = ~np.isnan(x)\n",
    "        x, y = x[mask], y[mask]\n",
    "        if (len(np.unique(x))>1):\n",
    "            return np.polyfit(x=x, y=y, deg=1)\n",
    "        else:\n",
    "            return [np.nan, np.nan]        "
   ]
  },
  {
   "cell_type": "markdown",
   "metadata": {},
   "source": [
    "#### to geodataframe"
   ]
  },
  {
   "cell_type": "code",
   "execution_count": null,
   "metadata": {},
   "outputs": [],
   "source": [
    "reg=gpd.GeoDataFrame(reg.reset_index()).dropna()\n",
    "reg['geometry']=[Point(x, y) for x, y in zip(reg.lon, reg.lat)]\n",
    "reg.crs=from_epsg(4326)\n",
    "\n",
    "reg.head()"
   ]
  },
  {
   "cell_type": "markdown",
   "metadata": {},
   "source": [
    "#### plot"
   ]
  },
  {
   "cell_type": "code",
   "execution_count": null,
   "metadata": {},
   "outputs": [],
   "source": [
    "reg.slope.describe()"
   ]
  },
  {
   "cell_type": "code",
   "execution_count": null,
   "metadata": {},
   "outputs": [],
   "source": [
    "ax = geoplot.pointplot(\n",
    "    reg\n",
    "    ,hue='slope', legend=True,limits=(-50,50),cmap='Reds',\n",
    "    projection=gcrs.NorthPolarStereo())\n",
    "ax.coastlines()"
   ]
  },
  {
   "cell_type": "code",
   "execution_count": null,
   "metadata": {},
   "outputs": [],
   "source": [
    "plt.scatter(pa.lat, pa.owd)"
   ]
  },
  {
   "cell_type": "code",
   "execution_count": null,
   "metadata": {},
   "outputs": [],
   "source": [
    "_=pp.groupby('lat').plot.scatter(x='owd', y='pp')"
   ]
  },
  {
   "cell_type": "code",
   "execution_count": null,
   "metadata": {},
   "outputs": [],
   "source": [
    "pa.plot.scatter(x='owd', y='pp')"
   ]
  },
  {
   "cell_type": "code",
   "execution_count": null,
   "metadata": {},
   "outputs": [],
   "source": [
    "plt.close('all')"
   ]
  },
  {
   "cell_type": "code",
   "execution_count": null,
   "metadata": {},
   "outputs": [],
   "source": [
    "hv.Scatter(pa, kdims=['owd'], vdims=['pp', 'lat']).groupby('lat')"
   ]
  },
  {
   "cell_type": "markdown",
   "metadata": {},
   "source": [
    "#### PP plots"
   ]
  },
  {
   "cell_type": "code",
   "execution_count": null,
   "metadata": {},
   "outputs": [],
   "source": [
    "ax = geoplot.pointplot(\n",
    "    pp.loc[(pp.pp>1) & (pp.date==pd.Timestamp(2014,1,1))]\n",
    "    ,hue='pp', legend=True,\n",
    "    cmap='Reds',\n",
    "    projection=gcrs.NorthPolarStereo())\n",
    "ax.coastlines()"
   ]
  },
  {
   "cell_type": "code",
   "execution_count": null,
   "metadata": {},
   "outputs": [],
   "source": [
    "np.log10(p.pp+1e-2).hist()"
   ]
  }
 ],
 "metadata": {
  "kernelspec": {
   "display_name": "Python 3",
   "language": "python",
   "name": "python3"
  },
  "language_info": {
   "codemirror_mode": {
    "name": "ipython",
    "version": 3
   },
   "file_extension": ".py",
   "mimetype": "text/x-python",
   "name": "python",
   "nbconvert_exporter": "python",
   "pygments_lexer": "ipython3",
   "version": "3.7.3"
  }
 },
 "nbformat": 4,
 "nbformat_minor": 4
}
