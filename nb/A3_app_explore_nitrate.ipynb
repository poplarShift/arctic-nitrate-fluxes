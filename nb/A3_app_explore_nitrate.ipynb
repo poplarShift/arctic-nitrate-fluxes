{
 "cells": [
  {
   "cell_type": "markdown",
   "metadata": {},
   "source": [
    "# Explore nitrate profiles"
   ]
  },
  {
   "cell_type": "code",
   "execution_count": null,
   "metadata": {},
   "outputs": [],
   "source": [
    "print('Starting app')"
   ]
  },
  {
   "cell_type": "code",
   "execution_count": null,
   "metadata": {},
   "outputs": [],
   "source": [
    "import panel as pn\n",
    "pn.extension()\n",
    "import holoviews as hv\n",
    "from holoviews import opts\n",
    "from holoviews.operation.datashader import datashade\n",
    "import datashader.reductions as dsr\n",
    "hv.extension('bokeh')\n",
    "import geoviews as gv\n",
    "import cartopy.crs as ccrs\n",
    "import pandas as pd\n",
    "import numpy as np\n",
    "import matplotlib as mpl\n",
    "import cmocean\n",
    "\n",
    "from utils.mpl import cmap_to_list\n",
    "\n",
    "from imports import theme\n",
    "hv.renderer('bokeh').theme = theme"
   ]
  },
  {
   "cell_type": "code",
   "execution_count": null,
   "metadata": {},
   "outputs": [],
   "source": [
    "dims = dict(\n",
    "    nitrate=hv.Dimension('nitrate', label='NO₃', unit='µM'),\n",
    "    depth=hv.Dimension('depth', label='Depth', unit='m', range=(0,300)),\n",
    "    lon=hv.Dimension('lon', label='Longitude', unit='°E'),\n",
    "    lat=hv.Dimension('lat', label='Latitude', unit='°N'),\n",
    ")"
   ]
  },
  {
   "cell_type": "code",
   "execution_count": null,
   "metadata": {},
   "outputs": [],
   "source": [
    "df = pd.read_csv('../data/no3-compilation/database.csv', parse_dates=['date'])\n",
    "df_single = pd.read_csv('../data/no3-compilation/database-per-stn.csv', parse_dates=['date'])"
   ]
  },
  {
   "cell_type": "markdown",
   "metadata": {},
   "source": [
    "Map to select points"
   ]
  },
  {
   "cell_type": "code",
   "execution_count": null,
   "metadata": {},
   "outputs": [],
   "source": [
    "loc = gv.feature.land * gv.feature.coastline * gv.Points(df_single, ['lon', 'lat'], [])\n",
    "loc = loc.relabel('Select a region')\n",
    "selection = hv.streams.Selection1D(source=loc, index=list(range(len(df_single)))) # set default arg"
   ]
  },
  {
   "cell_type": "markdown",
   "metadata": {},
   "source": [
    "Datashaded nitrate profiles"
   ]
  },
  {
   "cell_type": "code",
   "execution_count": null,
   "metadata": {},
   "outputs": [],
   "source": [
    "cmap = cmocean.cm.phase\n",
    "colors = cmap_to_list(cmap, 12)\n",
    "# mock points for legend. see http://holoviews.org/user_guide/Large_Data.html, # Multidimensional plots\n",
    "legend_points = hv.Overlay(\n",
    "    [hv.Scatter([-100, 0], label=str(k+1)).opts(color=v, marker='square', legend_position='right') \n",
    "     for k, v in list(enumerate(colors))])\n",
    "# mock data to append to streamed dataframe to ensure that all months are represented with same color scaling as in mock legend\n",
    "months = pd.DataFrame(dict(month=np.arange(12)))\n",
    "\n",
    "def get_ntr(index):\n",
    "    stations = df_single.iloc[index].station\n",
    "    return df.loc[df.station.isin(stations)]\n",
    "\n",
    "ntr_toshade = hv.DynamicMap(\n",
    "    lambda index: hv.Scatter(\n",
    "        pd.concat([get_ntr(index), months], sort='False'), \n",
    "        'depth', ['nitrate', 'month']\n",
    "    ), \n",
    "    streams=[selection]\n",
    ")\n",
    "\n",
    "ntr_shaded = (\n",
    "    datashade(\n",
    "        ntr_toshade, \n",
    "        aggregator=dsr.count_cat('month'), color_key=cmap,\n",
    "        dynamic=True, normalization='eq_hist',\n",
    "        x_sampling=5, y_sampling=0.25\n",
    "    ) \n",
    "    * legend_points\n",
    ").relabel('All selected profiles').redim(**dims)"
   ]
  },
  {
   "cell_type": "markdown",
   "metadata": {},
   "source": [
    "Monthly averaged nitrate profiles"
   ]
  },
  {
   "cell_type": "code",
   "execution_count": null,
   "metadata": {},
   "outputs": [],
   "source": [
    "ntr_avg = hv.DynamicMap(\n",
    "    lambda index: hv.Scatter(\n",
    "        get_ntr(index).groupby(['month', 'depth']).mean(), \n",
    "        'depth', ['nitrate', 'month']\n",
    "    ).groupby('month').overlay(), \n",
    "    streams=[selection]\n",
    ").relabel('Monthly average').redim(**dims)"
   ]
  },
  {
   "cell_type": "markdown",
   "metadata": {},
   "source": [
    "Define options"
   ]
  },
  {
   "cell_type": "code",
   "execution_count": null,
   "metadata": {},
   "outputs": [],
   "source": [
    "options = [\n",
    "    opts.Points(\n",
    "        active_tools=['lasso_select'], tools=['lasso_select', 'box_select'], \n",
    "        projection=ccrs.NorthPolarStereo(),\n",
    "        frame_height=400, aspect=1,\n",
    "    ),\n",
    "    opts.Scatter(\n",
    "        invert_axes=True, invert_yaxis=True, \n",
    "        color=hv.Cycle([mpl.colors.to_hex(c) for c in colors]),\n",
    "        width=500, frame_height=400,\n",
    "    ),\n",
    "    opts.RGB(\n",
    "        invert_axes=True, invert_yaxis=True,\n",
    "        ylim=(0, None),\n",
    "        width=500, frame_height=400,\n",
    "    ),\n",
    "    opts.NdOverlay(legend_position='right', ),\n",
    "    opts.Layout(merge_tools=False),\n",
    "]"
   ]
  },
  {
   "cell_type": "markdown",
   "metadata": {},
   "source": [
    "Build app"
   ]
  },
  {
   "cell_type": "code",
   "execution_count": null,
   "metadata": {},
   "outputs": [],
   "source": [
    "l = (loc + ntr_shaded + ntr_avg).opts(*options)\n",
    "\n",
    "app = pn.Row(\n",
    "    loc,\n",
    "    ntr_avg, \n",
    "    ntr_shaded\n",
    ")\n",
    "\n",
    "print('Rendering now!')\n",
    "app.servable()"
   ]
  }
 ],
 "metadata": {
  "kernelspec": {
   "display_name": "Python 3",
   "language": "python",
   "name": "python3"
  },
  "language_info": {
   "codemirror_mode": {
    "name": "ipython",
    "version": 3
   },
   "file_extension": ".py",
   "mimetype": "text/x-python",
   "name": "python",
   "nbconvert_exporter": "python",
   "pygments_lexer": "ipython3",
   "version": "3.7.3"
  }
 },
 "nbformat": 4,
 "nbformat_minor": 4
}
