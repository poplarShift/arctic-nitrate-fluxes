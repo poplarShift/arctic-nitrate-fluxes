{
 "cells": [
  {
   "cell_type": "markdown",
   "metadata": {},
   "source": [
    "# Preamble"
   ]
  },
  {
   "cell_type": "markdown",
   "metadata": {},
   "source": [
    "This notebook deals with compiling all available estimates and measurements of vertical nitrate fluxes (in the Arctic Ocean).\n",
    "\n",
    "All figures exported from this notebook are prefixed by `FIGURE_NO3-COMP_`."
   ]
  },
  {
   "cell_type": "code",
   "execution_count": null,
   "metadata": {},
   "outputs": [],
   "source": [
    "%load_ext autoreload\n",
    "%autoreload 2\n",
    "%run imports.py"
   ]
  },
  {
   "cell_type": "code",
   "execution_count": null,
   "metadata": {},
   "outputs": [],
   "source": [
    "dims = dict(\n",
    "    fndim = hv.Dimension('FN', label='Nitrate flux', unit='mmol m-2 d-1', range=(.005, 10)),\n",
    ")"
   ]
  },
  {
   "cell_type": "markdown",
   "metadata": {
    "toc-hr-collapsed": false
   },
   "source": [
    "# Compiling the nitrate flux database"
   ]
  },
  {
   "cell_type": "markdown",
   "metadata": {},
   "source": [
    "Information was gathered into [a spreadsheet](../data/fn-compilation.xlsx) mainly from each reference, with auxiliary information sometimes coming from related publications. Other information needed some additional calculations based on published data. Note that for the nitrate fluxes newly calculated for this study, auxiliary calculations have already been done in [B0_new_estimates.ipynb](B0_new_estimates.ipynb). "
   ]
  },
  {
   "cell_type": "markdown",
   "metadata": {
    "toc-hr-collapsed": true
   },
   "source": [
    "## Surface nitrate concentration in Nishino et al., 2018"
   ]
  },
  {
   "cell_type": "code",
   "execution_count": null,
   "metadata": {},
   "outputs": [],
   "source": [
    "df = pd.read_csv(\n",
    "    '../data/fn-compilation-database/nishino2018biogeochemical/bottle/MR150301_ex_bot.csv',\n",
    "    skiprows=[0, 2],\n",
    "    na_values = -999,\n",
    "    parse_dates = ['DATE']\n",
    ")\n",
    "\n",
    "df[['CTDDPT','NITRAT','NITRAT2','NITRAT_AVE']].loc[\n",
    "    (df.CTDDPT<=25) & \n",
    "    (dt.datetime(2015,9,23,0,0,0)<= df.DATE) &\n",
    "    (dt.datetime(2015,9,23,23,59,59)>= df.DATE)\n",
    "].mean()"
   ]
  },
  {
   "cell_type": "markdown",
   "metadata": {},
   "source": [
    "So the average surface conc. as shown in Fig. 2b of their paper, is around 0.004 µM."
   ]
  },
  {
   "cell_type": "markdown",
   "metadata": {
    "toc-hr-collapsed": false
   },
   "source": [
    "### End-of-winter NO3 conc. for bourgault2011turbulent"
   ]
  },
  {
   "cell_type": "markdown",
   "metadata": {},
   "source": [
    "Tremblay et al (from the same 2003-2004 sampling campaign) indicate max conc. of 4uM (tremblay2008vertical, Fig. 4, upper). We will therefore use this values.\n",
    "\n",
    "The only available winter (i.e., June or earlier) data from the Codispoti et al. database are further out in the Southern Beaufort Sea:"
   ]
  },
  {
   "cell_type": "raw",
   "metadata": {},
   "source": [
    "bourgault = df.loc[df.Reference.str.contains('bourgault')].to_crs(from_epsg(3413))\n",
    "bourgault.geometry = bourgault.geometry.buffer(300e3)\n",
    "bourgault=bourgault.to_crs(from_epsg(4326))\n",
    "\n",
    "ax = geoplot.polyplot(bourgault, projection=proj)\n",
    "ax.coastlines()\n",
    "geoplot.pointplot(no3#.loc[no3.Season==season],\n",
    "                  ,hue='MM'\n",
    "                  ,legend=True,cmap='jet',\n",
    "                  projection=proj,\n",
    "                  legend_kwargs = {'bbox_to_anchor': (0.35, 0.95)},\n",
    "                  ax=ax\n",
    "                          )\n",
    "ax.gridlines()\n",
    "ax.outline_patch.set_visible(True)\n",
    "\n",
    "no3_winter = no3.loc[no3.MM<=4]\n",
    "no3_winter.loc[no3.intersects(bourgault.geometry.iloc[0])].mean()"
   ]
  },
  {
   "cell_type": "markdown",
   "metadata": {},
   "source": [
    "## Coordinates in randelhoff2016vertical"
   ]
  },
  {
   "cell_type": "markdown",
   "metadata": {},
   "source": [
    "CarbonBridge ISUS data as TSV:\n",
    "https://data.npolar.no/dataset/5134115e-6418-42f8-802d-07d86f780ebd"
   ]
  },
  {
   "cell_type": "code",
   "execution_count": null,
   "metadata": {},
   "outputs": [],
   "source": [
    "m = loadmat('/Users/doppler/database/nitrate-fluxes/results_all.mat',\n",
    "           squeeze_me=True)\n",
    "df = gpd.GeoDataFrame(\n",
    "    dict(\n",
    "        ice=m['isice'],\n",
    "        fn=m['FN'],\n",
    "        lon=m['lon'],\n",
    "        lat=m['lat'],\n",
    "        time=m['time']\n",
    "    )\n",
    ")\n",
    "df['geometry'] = [Point(x,y) for x,y in zip(df.lon,df.lat)]\n",
    "df.groupby('ice').geometry.apply(lambda x: x.unary_union.convex_hull.centroid)\n"
   ]
  },
  {
   "cell_type": "raw",
   "metadata": {},
   "source": [
    "df.loc[(df.Reference=='randelhoff2016vertical')\n",
    "                  & (df.Ice=='Ice'),\n",
    "      'geometry'] = a.loc[1]\n",
    "\n",
    "df.loc[(df.Reference=='randelhoff2016vertical')\n",
    "                  & (df.Ice=='Open water'),\n",
    "      'geometry'] = a.loc[0]"
   ]
  },
  {
   "cell_type": "markdown",
   "metadata": {
    "toc-hr-collapsed": false
   },
   "source": [
    "## Remaining sampling locations as polygons"
   ]
  },
  {
   "cell_type": "markdown",
   "metadata": {
    "toc-hr-collapsed": false
   },
   "source": [
    "## randelhoff2016regional"
   ]
  },
  {
   "cell_type": "markdown",
   "metadata": {},
   "source": [
    "### Canada, Amundsen, Makarov Basins"
   ]
  },
  {
   "cell_type": "markdown",
   "metadata": {},
   "source": [
    "    XCP locations for the Makarov Basin data are \n",
    "\n",
    "    2007-04-23/2304 UTC     84deg 28.69min North   134deg 42.94min West \n",
    "    2007-04-24/0307 UTC     85deg 44.53min North   134deg 08.85min West  \n",
    "    2007-04-28/2155 UTC     88deg 35.00min North   136deg 02.40min West  \n",
    "    2007-04-29/0223 UTC     89deg 03.85min North   084deg 30.37min West\n",
    "\n",
    "    The Canada Basin MMP data are taken from \n",
    "    2006-2007 Moorings B,C,D\n",
    "    2007-2008 Moorings A,D\n",
    "    2008-2009 Moorings B,D \n",
    "\n",
    "    A is located at 75 N, 150 W\n",
    "    B is located at 78 N, 150 W\n",
    "    C is located at 77 N, 140 W\n",
    "    D is located at 74 N, 140 W\n"
   ]
  },
  {
   "cell_type": "raw",
   "metadata": {},
   "source": [
    "# using individual positions\n",
    "# see randelhoff2016regional, Fig. 1\n",
    "coords_canadabasin = MultiPoint([Point(x,y) for x,y in zip([-150, -150, -140, -140],\n",
    "                                                      [72.5, 78, 77, 72.5]\n",
    "                                                     )])\n",
    "df.loc[(df.Reference=='randelhoff2016regional') &\n",
    "       (df.Area.str.contains('Canada'))\n",
    "       ,'geometry'] = coords_canadabasin.convex_hull"
   ]
  },
  {
   "cell_type": "raw",
   "metadata": {},
   "source": [
    "from file: /Users/doppler/papers/habitat/data/fn-compilation-database/randelhoff2016regional/deep_FN/NPEO.m\n",
    "\n",
    "% define regions\n",
    "AM=lon>0;% & lat>87 ;\n",
    "MK=lon<0 & lat>80;\n",
    "CB=lat<80;\n",
    "\n",
    "CAO_eps_results.mat: (Ilker Fer's MSS data locations)\n",
    "lat =\n",
    "\n",
    "   89.0000       NaN       NaN   87.5000   88.5000\n",
    "lon =\n",
    "\n",
    "    -7   NaN   NaN   -10     0"
   ]
  },
  {
   "cell_type": "raw",
   "metadata": {},
   "source": [
    "Makarov Basin XCP locations:\n",
    "[/Users/doppler/papers/habitat/data/fn-compilation-database/randelhoff2016regional/deep_FN/john_canadian_basin/MMP_XCP_locations.mat]"
   ]
  },
  {
   "cell_type": "code",
   "execution_count": null,
   "metadata": {},
   "outputs": [],
   "source": [
    "# extract latitudes and longitudes from above files:\n",
    "\n",
    "lat = [84,85,86,86,87,88,89,89,90,85,86,86,86,87,87,88,72.6666666666667,73,73,74.3333333333333,74.6666666666667,74,74,75]\n",
    "lon = [-135,90,-135,90,-135,90,-135,90,0,90,-136,-173,90,-137,-180,-180,-145,-140,-150,-143,-146,-140,-150,-150]\n",
    "\n",
    "# Amundsen Basin\n",
    "coords_AM = MultiPoint([Point(x,y) for x,y in zip(lon,lat) if x>0 and y>87] # NPEO ISUS\n",
    "                       + [Point(x,y) for x,y in zip([-7, -10, 0], [89, 87.5, 88.5])] # NPEO MSS casts\n",
    "                      ).convex_hull\n",
    "\n",
    "# Makarov Basin\n",
    "coords_MK = MultiPoint([Point(x,y) for x,y in zip(lon,lat) if x<0 and y>80] # NPEO ISUS\n",
    "                       + [Point(x,y) for x,y in zip( # XCP Makarov\n",
    "                           [-134.715666666667,-134.147500000000,-136.040000000000,-84.5061666666667],\n",
    "                           [84.4781666666667,85.7421666666667,88.5833333333333,89.0641666666667])]\n",
    "                      ).convex_hull\n",
    "\n",
    "# Canadian Basin\n",
    "coords_CB = MultiPoint([Point(x,y) for x,y in zip(lon,lat) if y<80] # NPEO ISUS\n",
    "                       + [Point(x,y) for x,y in zip([-150, -150, -140, -140],[72.5, 78, 77, 72.5])] # Beaufort Gyre exploration project moorings\n",
    "                      ).convex_hull"
   ]
  },
  {
   "cell_type": "code",
   "execution_count": null,
   "metadata": {},
   "outputs": [],
   "source": [
    "coords_AM.centroid.wkt"
   ]
  },
  {
   "cell_type": "code",
   "execution_count": null,
   "metadata": {},
   "outputs": [],
   "source": [
    "coords_MK.centroid.wkt"
   ]
  },
  {
   "cell_type": "code",
   "execution_count": null,
   "metadata": {},
   "outputs": [],
   "source": [
    "coords_CB.centroid.wkt"
   ]
  },
  {
   "cell_type": "raw",
   "metadata": {},
   "source": [
    "df.loc[(df.Reference=='randelhoff2016regional') &\n",
    "       (df.Area.str.contains('Canada'))\n",
    "       ,'geometry'] = coords_CB.convex_hull\n",
    "df.loc[(df.Reference=='randelhoff2016regional') &\n",
    "       (df.Area.str.contains('Makarov'))\n",
    "       ,'geometry'] = coords_MK.convex_hull\n",
    "df.loc[(df.Reference=='randelhoff2016regional') &\n",
    "       (df.Area.str.contains('Amundsen'))\n",
    "       ,'geometry'] = coords_AM.convex_hull"
   ]
  },
  {
   "cell_type": "markdown",
   "metadata": {},
   "source": [
    "### Nansen Basin/Yermak Plateau\n",
    "\n",
    "FN calculated using `CALC_FN_deep.m`.\n",
    "\n",
    "    nice = load('~/_WORK/_DATA/NICE/ISUS/NICE2015_ISUS_calibrated.mat')\n",
    "    isus = nice.isus([2:10 16]) \n",
    "\n",
    "data link: https://data.npolar.no/dataset/96eb41f9-c620-5fe4-a7a3-96b0e55fd3d5 as .nc file"
   ]
  },
  {
   "cell_type": "code",
   "execution_count": null,
   "metadata": {},
   "outputs": [],
   "source": [
    "ds = xr.open_dataset('../data/fn-compilation-database/N-ICE2015-ISUS.nc')\n",
    "# stations in that file that were used to calculate the nitrate fluxes:\n",
    "stations = list(range(1,10))+[15,]\n",
    "\n",
    "ds.isel(LATITUDE=stations, LONGITUDE=stations)[['LONGITUDE', 'LATITUDE']].to_dataframe().reset_index().mean()"
   ]
  },
  {
   "cell_type": "raw",
   "metadata": {},
   "source": [
    "df.loc[(df.Reference=='randelhoff2016regional') &\n",
    "       (df.Area.str.contains('Nansen'))\n",
    "       ,'geometry'] = MultiPoint([Point(x,y) for x,y \n",
    "                                  in zip(ds.LONGITUDE[stations],\n",
    "                                         ds.LATITUDE[stations])]).convex_hull"
   ]
  },
  {
   "cell_type": "markdown",
   "metadata": {},
   "source": [
    "# Saving the spreadsheet into various formats"
   ]
  },
  {
   "cell_type": "markdown",
   "metadata": {},
   "source": [
    "Save the .xlsx file to .csv"
   ]
  },
  {
   "cell_type": "code",
   "execution_count": null,
   "metadata": {},
   "outputs": [],
   "source": [
    "df = gpd.GeoDataFrame(\n",
    "    pd.read_excel(\n",
    "        '../data/fn-compilation.xlsx',\n",
    "        dtype=dict(\n",
    "            FN=float, \n",
    "            Surface_NO3=float,\n",
    "            Data_source_FN=str,\n",
    "            Data_source_NO3=str,\n",
    "            Platform=str\n",
    "        ),\n",
    "        sheet_name=0\n",
    "   )\n",
    ")\n",
    "\n",
    "# df['geometry'] = [Point(x, y) for x, y in zip(df.Longitude, df.Latitude)] \n",
    "# df.crs = dict(init='epsg:4326')\n",
    "df['logFN'] = np.log10(df.FN)\n",
    "df.to_csv('../data/fn-compilation.csv', index=False)"
   ]
  },
  {
   "cell_type": "markdown",
   "metadata": {},
   "source": [
    "Output Markdown table for paper"
   ]
  },
  {
   "cell_type": "code",
   "execution_count": null,
   "metadata": {},
   "outputs": [],
   "source": [
    "df = pd.read_csv('../data/fn-compilation.csv')\n",
    "df.iloc[:-3]['Reference'] = '@' + df['Reference']\n",
    "\n",
    "df = (\n",
    "    df\n",
    "    .assign(sorter=df.Reference.str.extract(r'(\\d{4})', expand=False)+df.Reference)\n",
    "    .sort_values('sorter')\n",
    "    .drop(columns='sorter')\n",
    "    .replace('single', 'Single station')\n",
    "    .replace('aggregate', 'Aggregate value')\n",
    ")\n",
    "\n",
    "df_export = (\n",
    "    df[['Reference', 'FN', 'Area', 'Season', 'samplesize']]\n",
    "    .rename(columns=dict(\n",
    "        samplesize='Sample size', \n",
    "        Nitrate_measurement='Nitrate measurement',\n",
    "        Turbulence_measurement='Turbulence measurement',\n",
    "        Area='Region',\n",
    "    ))\n",
    ")\n",
    "\n",
    "\n",
    "s = pandas_df_to_markdown_table(df_export)\n",
    "\n",
    "print(s)"
   ]
  },
  {
   "cell_type": "raw",
   "metadata": {},
   "source": [
    "df = df.loc[~df.geometry.isnull()]"
   ]
  },
  {
   "cell_type": "raw",
   "metadata": {},
   "source": [
    "!rm data/fn-compilation-database/fn-compilation.shp\n",
    "!rm data/fn-compilation-database/fn-compilation.json"
   ]
  },
  {
   "cell_type": "raw",
   "metadata": {},
   "source": [
    "# df = df.to_crs(dict(init='epsg:3413'),inplace=False)\n",
    "df = df.assign(geometry=df.buffer(1e-5))\n",
    "\n",
    "# df.to_file('../data/fn-compilation-database/fn-compilation.shp', driver='ESRI Shapefile')\n",
    "# df.to_file('../data/fn-compilation-database/fn-compilation.json', driver='GeoJSON')\n",
    "df = pd.DataFrame(df.drop(columns=['geometry']))\n"
   ]
  },
  {
   "cell_type": "markdown",
   "metadata": {},
   "source": [
    "# Compile nitrate fluxes from the world ocean outside the Arctic "
   ]
  },
  {
   "cell_type": "markdown",
   "metadata": {},
   "source": [
    "## planas1999 "
   ]
  },
  {
   "cell_type": "markdown",
   "metadata": {},
   "source": [
    "Table 1: Krho in m2 d-1, dNO3dz in mmol m-4"
   ]
  },
  {
   "cell_type": "code",
   "execution_count": null,
   "metadata": {},
   "outputs": [],
   "source": [
    "df = pd.DataFrame(\n",
    "    dict(\n",
    "        Krho=[0.097, 0.015, 0.491, 0.417, 0.796, 1.13, 0.266, 1.45, 1.76, 5.84, 4.15, 14.43, 1.14, 2.59],\n",
    "        dNO3dz=[0.0005, 0.0025, 0.0168, 0.0365, 0.0017, 0.049, 0.109, 0.159, 0.225, 0.268, 0.202, 0.146, 0.038, 0.030]\n",
    "    )\n",
    ")\n",
    "\n",
    "df['FN'] = df.Krho * df.dNO3dz\n",
    "\n",
    "df.mean()"
   ]
  },
  {
   "cell_type": "markdown",
   "metadata": {},
   "source": [
    "Convert .xlsx to markdown table"
   ]
  },
  {
   "cell_type": "code",
   "execution_count": null,
   "metadata": {},
   "outputs": [],
   "source": [
    "df = pd.read_excel('../data/fn-compilation-world.xlsx')\n",
    "df = df.assign(logFN=np.log10(df.FN))\n",
    "\n",
    "df.to_csv('../data/fn-compilation-world.csv', index=False)\n",
    "\n",
    "df['Reference'] = '@' + df.Reference\n",
    "df['Year'] = df.Reference.str.extract('([0-9]{4})')\n",
    "df = df.sort_values(['Year', 'Reference', 'FN'])\n",
    "print(pandas_df_to_markdown_table(df[['Reference', 'FN', 'Region']]))"
   ]
  },
  {
   "cell_type": "markdown",
   "metadata": {},
   "source": [
    "# Comparison Arctic-worldwide nitrate fluxes"
   ]
  },
  {
   "cell_type": "markdown",
   "metadata": {},
   "source": [
    "Split Outside Arctic into coastal/shelf vs open ocean"
   ]
  },
  {
   "cell_type": "code",
   "execution_count": null,
   "metadata": {},
   "outputs": [],
   "source": [
    "df = pd.concat(\n",
    "    [\n",
    "        pd.read_csv('../data/fn-compilation.csv').assign(world_region='Arctic').rename(columns={'Area': 'Region'}),\n",
    "        pd.read_csv('../data/fn-compilation-world.csv').assign(world_region='Outside Arctic'),\n",
    "    ],\n",
    "    sort=False,\n",
    ")\n",
    "df = df.loc[df.FN>1e-10]\n",
    "\n",
    "options = [\n",
    "    opts.Distribution(\n",
    "        toolbar=None,\n",
    "        frame_width=400, frame_height=250,\n",
    "        show_grid=True,\n",
    "        xticks=[(logx, 10**logx) for logx in range(-2, 3, 2)], \n",
    "        fill_color=hv.Cycle(['blue', 'orange']),\n",
    "    ),\n",
    "    opts.NdOverlay(legend_position='top'),\n",
    "]\n",
    "\n",
    "l = (\n",
    "    df.hvplot.kde('logFN', by='world_region').opts()\n",
    "    .redim(logFN=hv.Dimension('logFN', label='Nitrate flux', unit='mmol m⁻² d⁻¹', range=(-4, 3)))\n",
    "    .opts(*options)\n",
    ")\n",
    "\n",
    "fname = '../nb_fig/FIGURE_FN-COMP_comparison_world'\n",
    "hv.save(l, fname+'.png')\n",
    "save_bokeh_svg(l, fname+'.svg')\n",
    "l"
   ]
  }
 ],
 "metadata": {
  "kernelspec": {
   "display_name": "Python 3",
   "language": "python",
   "name": "python3"
  },
  "language_info": {
   "codemirror_mode": {
    "name": "ipython",
    "version": 3
   },
   "file_extension": ".py",
   "mimetype": "text/x-python",
   "name": "python",
   "nbconvert_exporter": "python",
   "pygments_lexer": "ipython3",
   "version": "3.7.3"
  },
  "toc-autonumbering": true
 },
 "nbformat": 4,
 "nbformat_minor": 4
}
